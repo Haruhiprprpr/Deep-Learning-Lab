{
  "nbformat": 4,
  "nbformat_minor": 0,
  "metadata": {
    "colab": {
      "name": "“2_1_ForwardAD.ipynb”的副本",
      "version": "0.3.2",
      "provenance": [],
      "collapsed_sections": []
    },
    "kernelspec": {
      "display_name": "Python 3",
      "language": "python",
      "name": "python3"
    }
  },
  "cells": [
    {
      "metadata": {
        "deletable": false,
        "editable": false,
        "nbgrader": {
          "checksum": "f415941a3a1516f0b3e2b93249aff57d",
          "grade": false,
          "grade_id": "cell-1015fd7f8a1783c7",
          "locked": true,
          "schema_version": 1,
          "solution": false
        },
        "id": "h40B-bkn8Px5",
        "colab_type": "text"
      },
      "cell_type": "markdown",
      "source": [
        "# Part 1: Forward Mode Automatic Differentiation\n",
        "\n",
        "Forward mode AD can simply be implemented by defining a class to represent [dual numbers](https://en.wikipedia.org/wiki/Dual_number) which hold the value and its derivative. The following skeleton defines a dual number and implements multiplication. \n",
        "\n",
        "__Tasks:__\n",
        "\n",
        "- Addition (`__add__`) is incomplete - can you finish it? \n",
        "- Can you also implement division (`__truediv__`), subtraction (`__sub__`) and power (`__pow__`)?"
      ]
    },
    {
      "metadata": {
        "deletable": false,
        "nbgrader": {
          "checksum": "33fa490908871a743dabb3060ebe112e",
          "grade": false,
          "grade_id": "cell-a645b47036f56c2e",
          "locked": false,
          "schema_version": 1,
          "solution": true
        },
        "id": "GM-McmJl8Px8",
        "colab_type": "code",
        "colab": {}
      },
      "cell_type": "code",
      "source": [
        "import math\n",
        "\n",
        "class DualNumber:\n",
        "    def __init__(self, value, dvalue):\n",
        "        self.value = value\n",
        "        self.dvalue = dvalue\n",
        "\n",
        "    def __str__(self):\n",
        "        return str(self.value) + \" + \" + str(self.dvalue) + \"ε\"\n",
        "\n",
        "    def __mul__(self, other):\n",
        "        return DualNumber(self.value * other.value,\n",
        "            self.dvalue * other.value + other.dvalue * self.value)\n",
        "    \n",
        "    def __add__(self, other):\n",
        "        #TODO: finish me\n",
        "        # YOUR CODE HERE\n",
        "        return DualNumber(self.value + other.value,\n",
        "                         self.dvalue + other.dvalue)\n",
        "        #raise NotImplementedError()\n",
        "    \n",
        "    # TODO: add missing methods\n",
        "    # YOUR CODE HERE\n",
        "    def __truediv__(self, other):\n",
        "        return DualNumber(self.value / other.value,\n",
        "                         (self.dvalue * other.value - self.value * other.dvalue) / (other.value * other.value))\n",
        "    \n",
        "    def __sub__(self, other):\n",
        "        return DualNumber(self.value - other.value,\n",
        "                         self.dvalue - other.dvalue)\n",
        "     \n",
        "    def __pow__(self,other):\n",
        "        return DualNumber(math.pow(self.value,other.value), math.pow(self.value,other.value) * (other.dvalue * math.log(self.value) + self.dvalue * other.value / self.value))\n",
        "        \n",
        "        \n",
        "    #raise NotImplementedError()"
      ],
      "execution_count": 0,
      "outputs": []
    },
    {
      "metadata": {
        "deletable": false,
        "editable": false,
        "nbgrader": {
          "checksum": "e9afb52c0524256aa416c8e0ceec60de",
          "grade": true,
          "grade_id": "cell-7923d5c39d574cd7",
          "locked": true,
          "points": 3,
          "schema_version": 1,
          "solution": false
        },
        "id": "_VrSF1Fa8PyG",
        "colab_type": "code",
        "outputId": "53a161fa-6041-4941-bfee-f96b858ff58a",
        "colab": {
          "base_uri": "https://localhost:8080/",
          "height": 35
        }
      },
      "cell_type": "code",
      "source": [
        "# Tests\n",
        "\n",
        "DualNumber(1,0) + DualNumber(1,0) / DualNumber(1,0) - DualNumber(1,0)**DualNumber(1,0)\n"
      ],
      "execution_count": 0,
      "outputs": [
        {
          "output_type": "execute_result",
          "data": {
            "text/plain": [
              "<__main__.DualNumber at 0x7f1de66cefd0>"
            ]
          },
          "metadata": {
            "tags": []
          },
          "execution_count": 4
        }
      ]
    },
    {
      "metadata": {
        "deletable": false,
        "editable": false,
        "nbgrader": {
          "checksum": "be03930a421d27414e745ac5839fddd3",
          "grade": false,
          "grade_id": "cell-2c8ce137dbdd2f9d",
          "locked": true,
          "schema_version": 1,
          "solution": false
        },
        "id": "VL2Lwa9q8PyJ",
        "colab_type": "text"
      },
      "cell_type": "markdown",
      "source": [
        "## Implementing math functions\n",
        "\n",
        "We also need to implement some core math functions. Here's the sine function for a dual number:"
      ]
    },
    {
      "metadata": {
        "deletable": false,
        "editable": false,
        "nbgrader": {
          "checksum": "1fc46030449c0860972520bddf2a498d",
          "grade": false,
          "grade_id": "cell-30886f6180e2ca7c",
          "locked": true,
          "schema_version": 1,
          "solution": false
        },
        "id": "n-9SkH718PyJ",
        "colab_type": "code",
        "colab": {}
      },
      "cell_type": "code",
      "source": [
        "def sin(x):\n",
        "    return DualNumber(math.sin(x.value), math.cos(x.value)*x.dvalue)"
      ],
      "execution_count": 0,
      "outputs": []
    },
    {
      "metadata": {
        "deletable": false,
        "editable": false,
        "nbgrader": {
          "checksum": "54b68135467f7b83dfa9749df021c932",
          "grade": false,
          "grade_id": "cell-9b585bf1afe72cca",
          "locked": true,
          "schema_version": 1,
          "solution": false
        },
        "id": "YAP0j1tU8PyM",
        "colab_type": "text"
      },
      "cell_type": "markdown",
      "source": [
        "__Task:__ can you implement the _cosine_ (`cos`), _tangent_ (`tan`), and _exponential_ (`exp`) functions in the code block below?"
      ]
    },
    {
      "metadata": {
        "deletable": false,
        "nbgrader": {
          "checksum": "2bea3862089cbfe7a78ceaa915a87a3b",
          "grade": false,
          "grade_id": "cell-61b9462cb781a8e1",
          "locked": false,
          "schema_version": 1,
          "solution": true
        },
        "id": "22sD4wTk8PyM",
        "colab_type": "code",
        "colab": {}
      },
      "cell_type": "code",
      "source": [
        "# TODO: implement additional math functions on dual numbers\n",
        "\n",
        "def cos(x):\n",
        "    # YOUR CODE HERE\n",
        "    return DualNumber(math.cos(x.value), -math.sin(x.value) * x.dvalue)\n",
        "    #raise NotImplementedError()\n",
        "\n",
        "def tan(x):\n",
        "    # YOUR CODE HERE\n",
        "    return DualNumber(math.tan(x.value), x.dvalue / (math.cos(x.value) * math.cos(x.value)))\n",
        "    #raise NotImplementedError()\n",
        "\n",
        "def exp(x):\n",
        "    # YOUR CODE HERE\n",
        "    # Using Euler's formula\n",
        "    return DualNumber(math.exp(x.value) * math.cos(x.dvalue), math.exp(x.value) * math.sin(x.dvalue))\n",
        "    #raise NotImplementedError()"
      ],
      "execution_count": 0,
      "outputs": []
    },
    {
      "metadata": {
        "deletable": false,
        "editable": false,
        "nbgrader": {
          "checksum": "29c49048fd70b07ab3819fcb5e4972ec",
          "grade": true,
          "grade_id": "cell-9055ec23e6e9ffb8",
          "locked": true,
          "points": 3,
          "schema_version": 1,
          "solution": false
        },
        "id": "OvVMaHOv8PyP",
        "colab_type": "code",
        "colab": {}
      },
      "cell_type": "code",
      "source": [
        "# Tests\n",
        "assert cos(DualNumber(0,0)).value == 1\n",
        "assert tan(DualNumber(0,0)).value == 0\n",
        "assert exp(DualNumber(0,0)).value == 1\n"
      ],
      "execution_count": 0,
      "outputs": []
    },
    {
      "metadata": {
        "deletable": false,
        "editable": false,
        "nbgrader": {
          "checksum": "5f834befbd408096b4d11ec9cd22159c",
          "grade": false,
          "grade_id": "cell-0429b8810d0cf3a3",
          "locked": true,
          "schema_version": 1,
          "solution": false
        },
        "id": "LM9gRXCS8PyS",
        "colab_type": "text"
      },
      "cell_type": "markdown",
      "source": [
        "## Time to try it out\n",
        "\n",
        "We're now in a position to try our implementation.\n",
        "\n",
        "__Task:__ \n",
        "\n",
        "- Try running the following code to compute the value of the function $z=x\\cdot y+sin(x)$ given $x=0.5$ and $y=4.2$, together with the derivative $\\partial z/\\partial x$ at that point. "
      ]
    },
    {
      "metadata": {
        "deletable": false,
        "nbgrader": {
          "checksum": "ff1399f6f7101774bd4d3e9c49ed6458",
          "grade": false,
          "grade_id": "cell-12f7c8fa42784946",
          "locked": false,
          "schema_version": 1,
          "solution": true
        },
        "id": "E-4GrG3b8PyT",
        "colab_type": "code",
        "outputId": "1dbeca04-9476-4512-b2ba-1a36378aed42",
        "colab": {
          "base_uri": "https://localhost:8080/",
          "height": 35
        }
      },
      "cell_type": "code",
      "source": [
        "# YOUR CODE HERE\n",
        "x = DualNumber(0.5,0)\n",
        "y = DualNumber(4.2,0)\n",
        "dNumber_dx = DualNumber(0.5,1) # value as x and dvalue as derivare of 1\n",
        "fx = dNumber_dx * y + sin(dNumber_dx)\n",
        "print(\"For the given x and y, z is\", fx.value, \", and dzdx is\", fx.dvalue)\n",
        "#print(4.2 + math.cos(0.5))\n",
        "#raise NotImplementedError()"
      ],
      "execution_count": 0,
      "outputs": [
        {
          "output_type": "stream",
          "text": [
            "For the given x and y, z is 2.579425538604203 , and dzdx is 5.077582561890373\n"
          ],
          "name": "stdout"
        }
      ]
    },
    {
      "metadata": {
        "deletable": false,
        "editable": false,
        "nbgrader": {
          "checksum": "7719838a896c466bcc58ecb273f89175",
          "grade": false,
          "grade_id": "cell-204b8d399904b523",
          "locked": true,
          "schema_version": 1,
          "solution": false
        },
        "id": "7z5_elHD8PyV",
        "colab_type": "text"
      },
      "cell_type": "markdown",
      "source": [
        "__Task__: Differentiate the above function with respect to $x$ and write the symbolic derivatives in the following box. Verify the result computed above is correct by plugging-in the values into your symbolic gradient expression."
      ]
    },
    {
      "metadata": {
        "deletable": false,
        "nbgrader": {
          "checksum": "07ca9c4df262fa25d98cea6f0e36d979",
          "grade": true,
          "grade_id": "cell-1ae4d0a0801a142a",
          "locked": false,
          "points": 2,
          "schema_version": 1,
          "solution": true
        },
        "id": "VpavVDrM8PyX",
        "colab_type": "text"
      },
      "cell_type": "markdown",
      "source": [
        "$\\partial z/\\partial x$ = y + cos(x) = 4.2 + cos(0.5) = 5.07758"
      ]
    },
    {
      "metadata": {
        "id": "yAYfe9qZ8PyY",
        "colab_type": "text"
      },
      "cell_type": "markdown",
      "source": [
        "__Task:__ Now use the code block below to compute the derivative $\\partial z/\\partial y$ of the above expression (at the same point $x=0.5, y=4.2$ as above) and store the derivative in the variable `dzdy` (just the derivative, not the Dual Number). Verify by hand that the result is correct."
      ]
    },
    {
      "metadata": {
        "deletable": false,
        "nbgrader": {
          "checksum": "cd3fbc66891ec630d8d3029df8ad0766",
          "grade": false,
          "grade_id": "cell-eab763bf1b218dc8",
          "locked": false,
          "schema_version": 1,
          "solution": true
        },
        "id": "SrVfnL-R8PyY",
        "colab_type": "code",
        "outputId": "d386d5c1-2c91-4591-9d8e-42b48d8c1168",
        "colab": {
          "base_uri": "https://localhost:8080/",
          "height": 35
        }
      },
      "cell_type": "code",
      "source": [
        "# YOUR CODE HERE\n",
        "dNumber_dy = DualNumber(4.2,1)\n",
        "fy = dNumber_dy * x\n",
        "dzdy = fy.dvalue\n",
        "#raise NotImplementedError()\n",
        "\n",
        "print('dz/dy:', dzdy)"
      ],
      "execution_count": 0,
      "outputs": [
        {
          "output_type": "stream",
          "text": [
            "dz/dy: 0.5\n"
          ],
          "name": "stdout"
        }
      ]
    },
    {
      "metadata": {
        "deletable": false,
        "editable": false,
        "nbgrader": {
          "checksum": "0e76a35421fc942d840771242e268dad",
          "grade": true,
          "grade_id": "cell-a2f9f0ca4b1ed763",
          "locked": true,
          "points": 2,
          "schema_version": 1,
          "solution": false
        },
        "id": "oapUyFQw8Pyc",
        "colab_type": "code",
        "colab": {}
      },
      "cell_type": "code",
      "source": [
        "#Tests\n",
        "assert dzdy\n",
        "assert type(dzdy) == float\n"
      ],
      "execution_count": 0,
      "outputs": []
    },
    {
      "metadata": {
        "deletable": false,
        "editable": false,
        "nbgrader": {
          "checksum": "827a8ca599d07c42685e571f2491cf48",
          "grade": false,
          "grade_id": "cell-8faa6c905dd61e82",
          "locked": true,
          "schema_version": 1,
          "solution": false
        },
        "id": "kO2Zy7XR8Pye",
        "colab_type": "text"
      },
      "cell_type": "markdown",
      "source": [
        "__Task:__ Finally, use the code block below to experiment and test the other math functions and methods you created."
      ]
    },
    {
      "metadata": {
        "deletable": false,
        "nbgrader": {
          "checksum": "7c7f4bfbb93248c24b6fac692d6d3109",
          "grade": true,
          "grade_id": "cell-b71d4bb64928ee38",
          "locked": false,
          "points": 0,
          "schema_version": 1,
          "solution": true
        },
        "id": "1iCGoQf08Pyf",
        "colab_type": "code",
        "outputId": "1a74eceb-07a1-41fc-9b37-5e301e13a19f",
        "colab": {
          "base_uri": "https://localhost:8080/",
          "height": 53
        }
      },
      "cell_type": "code",
      "source": [
        "# YOUR CODE HERE\n",
        "# Try y = x**4.3 + 3x, given x  = 3.2\n",
        "index = DualNumber(4.3,0)\n",
        "dNumber_x = DualNumber(3.2,1)\n",
        "y = pow(dNumber_x,index) + DualNumber(3,0) * dNumber_x\n",
        "print(\"dydx is :\", y.dvalue)\n",
        "print(4.3 * (3.2**3.3) + 3)\n",
        "#raise NotImplementedError()"
      ],
      "execution_count": 0,
      "outputs": [
        {
          "output_type": "stream",
          "text": [
            "dydx is : 202.73923584481346\n",
            "202.7392358448135\n"
          ],
          "name": "stdout"
        }
      ]
    },
    {
      "metadata": {
        "id": "1FD5rKQNaZI8",
        "colab_type": "code",
        "colab": {}
      },
      "cell_type": "code",
      "source": [
        ""
      ],
      "execution_count": 0,
      "outputs": []
    }
  ]
}