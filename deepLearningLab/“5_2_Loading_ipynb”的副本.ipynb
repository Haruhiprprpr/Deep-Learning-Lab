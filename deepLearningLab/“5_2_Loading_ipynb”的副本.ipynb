{
  "nbformat": 4,
  "nbformat_minor": 0,
  "metadata": {
    "colab": {
      "name": "“5_2_Loading.ipynb”的副本",
      "version": "0.3.2",
      "provenance": [],
      "collapsed_sections": []
    },
    "kernelspec": {
      "name": "python3",
      "display_name": "Python 3"
    },
    "accelerator": "GPU"
  },
  "cells": [
    {
      "metadata": {
        "deletable": false,
        "editable": false,
        "nbgrader": {
          "checksum": "2e433cbdd5b1bc32ffca46551a708e45",
          "grade": false,
          "grade_id": "cell-c290b2da5fe2edf3",
          "locked": true,
          "schema_version": 1,
          "solution": false
        },
        "id": "aaz6qLIihiWK",
        "colab_type": "text"
      },
      "cell_type": "markdown",
      "source": [
        "# Part 2: Loading a saved model"
      ]
    },
    {
      "metadata": {
        "deletable": false,
        "editable": false,
        "nbgrader": {
          "checksum": "f548e96caa143d15f7b0ec97bd4e149f",
          "grade": false,
          "grade_id": "cell-ba8019f876600bdf",
          "locked": true,
          "schema_version": 1,
          "solution": false
        },
        "id": "IeCokPj1hiWQ",
        "colab_type": "text"
      },
      "cell_type": "markdown",
      "source": [
        "__Before starting, we recommend you enable GPU acceleration if you're running on Colab. You'll also need to upload the weights you downloaded previously using the following block and using the upload button to upload your bettercnn.weights file:__"
      ]
    },
    {
      "metadata": {
        "deletable": false,
        "editable": false,
        "nbgrader": {
          "checksum": "c0d2caf75989226e03a8ded7438278a5",
          "grade": false,
          "grade_id": "cell-7baa302f182176c7",
          "locked": true,
          "schema_version": 1,
          "solution": false
        },
        "id": "5CHiUdIshiWT",
        "colab_type": "code",
        "outputId": "17cb4c8c-996d-4eec-f604-cbe906192371",
        "colab": {
          "resources": {
            "http://localhost:8080/nbextensions/google.colab/files.js": {
              "data": "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",
              "ok": true,
              "headers": [
                [
                  "content-type",
                  "application/javascript"
                ]
              ],
              "status": 200,
              "status_text": ""
            }
          },
          "base_uri": "https://localhost:8080/",
          "height": 1998
        }
      },
      "cell_type": "code",
      "source": [
        "# Execute this code block to install dependencies when running on colab\n",
        "try:\n",
        "    import torch\n",
        "except:\n",
        "    from os.path import exists\n",
        "    from wheel.pep425tags import get_abbr_impl, get_impl_ver, get_abi_tag\n",
        "    platform = '{}{}-{}'.format(get_abbr_impl(), get_impl_ver(), get_abi_tag())\n",
        "    cuda_output = !ldconfig -p|grep cudart.so|sed -e 's/.*\\.\\([0-9]*\\)\\.\\([0-9]*\\)$/cu\\1\\2/'\n",
        "    accelerator = cuda_output[0] if exists('/dev/nvidia0') else 'cpu'\n",
        "\n",
        "    !pip install -q http://download.pytorch.org/whl/{accelerator}/torch-1.0.0-{platform}-linux_x86_64.whl torchvision\n",
        "    \n",
        "try: \n",
        "    import torchbearer\n",
        "except:\n",
        "    !pip install torchbearer\n",
        "\n",
        "try:\n",
        "    from google.colab import files\n",
        "    uploaded = files.upload()\n",
        "except:\n",
        "    print(\"Not running on colab. Ignoring.\")\n",
        "\n",
        "!wget http://comp6248.ecs.soton.ac.uk/labs/lab5/0.PNG\n",
        "!wget http://comp6248.ecs.soton.ac.uk/labs/lab5/1.PNG\n",
        "!wget http://comp6248.ecs.soton.ac.uk/labs/lab5/2.PNG\n",
        "!wget http://comp6248.ecs.soton.ac.uk/labs/lab5/3.PNG\n",
        "!wget http://comp6248.ecs.soton.ac.uk/labs/lab5/4.PNG\n",
        "!wget http://comp6248.ecs.soton.ac.uk/labs/lab5/5.PNG\n",
        "!wget http://comp6248.ecs.soton.ac.uk/labs/lab5/6.PNG\n",
        "!wget http://comp6248.ecs.soton.ac.uk/labs/lab5/7.PNG\n",
        "!wget http://comp6248.ecs.soton.ac.uk/labs/lab5/8.PNG\n",
        "!wget http://comp6248.ecs.soton.ac.uk/labs/lab5/9.PNG"
      ],
      "execution_count": 0,
      "outputs": [
        {
          "output_type": "display_data",
          "data": {
            "text/html": [
              "\n",
              "     <input type=\"file\" id=\"files-ea260301-595c-4bdd-b781-5050ac8e3f8f\" name=\"files[]\" multiple disabled />\n",
              "     <output id=\"result-ea260301-595c-4bdd-b781-5050ac8e3f8f\">\n",
              "      Upload widget is only available when the cell has been executed in the\n",
              "      current browser session. Please rerun this cell to enable.\n",
              "      </output>\n",
              "      <script src=\"/nbextensions/google.colab/files.js\"></script> "
            ],
            "text/plain": [
              "<IPython.core.display.HTML object>"
            ]
          },
          "metadata": {
            "tags": []
          }
        },
        {
          "output_type": "stream",
          "text": [
            "--2019-03-19 15:58:19--  http://comp6248.ecs.soton.ac.uk/labs/lab5/0.PNG\n",
            "Resolving comp6248.ecs.soton.ac.uk (comp6248.ecs.soton.ac.uk)... 185.199.110.153, 185.199.108.153, 185.199.109.153, ...\n",
            "Connecting to comp6248.ecs.soton.ac.uk (comp6248.ecs.soton.ac.uk)|185.199.110.153|:80... connected.\n",
            "HTTP request sent, awaiting response... 200 OK\n",
            "Length: 2514 (2.5K) [image/png]\n",
            "Saving to: ‘0.PNG’\n",
            "\n",
            "\r0.PNG                 0%[                    ]       0  --.-KB/s               \r0.PNG               100%[===================>]   2.46K  --.-KB/s    in 0s      \n",
            "\n",
            "2019-03-19 15:58:19 (398 MB/s) - ‘0.PNG’ saved [2514/2514]\n",
            "\n",
            "--2019-03-19 15:58:21--  http://comp6248.ecs.soton.ac.uk/labs/lab5/1.PNG\n",
            "Resolving comp6248.ecs.soton.ac.uk (comp6248.ecs.soton.ac.uk)... 185.199.110.153, 185.199.108.153, 185.199.109.153, ...\n",
            "Connecting to comp6248.ecs.soton.ac.uk (comp6248.ecs.soton.ac.uk)|185.199.110.153|:80... connected.\n",
            "HTTP request sent, awaiting response... 200 OK\n",
            "Length: 2448 (2.4K) [image/png]\n",
            "Saving to: ‘1.PNG’\n",
            "\n",
            "1.PNG               100%[===================>]   2.39K  --.-KB/s    in 0s      \n",
            "\n",
            "2019-03-19 15:58:21 (512 MB/s) - ‘1.PNG’ saved [2448/2448]\n",
            "\n",
            "--2019-03-19 15:58:23--  http://comp6248.ecs.soton.ac.uk/labs/lab5/2.PNG\n",
            "Resolving comp6248.ecs.soton.ac.uk (comp6248.ecs.soton.ac.uk)... 185.199.110.153, 185.199.108.153, 185.199.109.153, ...\n",
            "Connecting to comp6248.ecs.soton.ac.uk (comp6248.ecs.soton.ac.uk)|185.199.110.153|:80... connected.\n",
            "HTTP request sent, awaiting response... 200 OK\n",
            "Length: 156 [image/png]\n",
            "Saving to: ‘2.PNG’\n",
            "\n",
            "2.PNG               100%[===================>]     156  --.-KB/s    in 0s      \n",
            "\n",
            "2019-03-19 15:58:23 (1.90 MB/s) - ‘2.PNG’ saved [156/156]\n",
            "\n",
            "--2019-03-19 15:58:25--  http://comp6248.ecs.soton.ac.uk/labs/lab5/3.PNG\n",
            "Resolving comp6248.ecs.soton.ac.uk (comp6248.ecs.soton.ac.uk)... 185.199.110.153, 185.199.108.153, 185.199.109.153, ...\n",
            "Connecting to comp6248.ecs.soton.ac.uk (comp6248.ecs.soton.ac.uk)|185.199.110.153|:80... connected.\n",
            "HTTP request sent, awaiting response... 200 OK\n",
            "Length: 229 [image/png]\n",
            "Saving to: ‘3.PNG’\n",
            "\n",
            "3.PNG               100%[===================>]     229  --.-KB/s    in 0s      \n",
            "\n",
            "2019-03-19 15:58:25 (42.0 MB/s) - ‘3.PNG’ saved [229/229]\n",
            "\n",
            "--2019-03-19 15:58:26--  http://comp6248.ecs.soton.ac.uk/labs/lab5/4.PNG\n",
            "Resolving comp6248.ecs.soton.ac.uk (comp6248.ecs.soton.ac.uk)... 185.199.110.153, 185.199.108.153, 185.199.109.153, ...\n",
            "Connecting to comp6248.ecs.soton.ac.uk (comp6248.ecs.soton.ac.uk)|185.199.110.153|:80... connected.\n",
            "HTTP request sent, awaiting response... 200 OK\n",
            "Length: 175 [image/png]\n",
            "Saving to: ‘4.PNG’\n",
            "\n",
            "4.PNG               100%[===================>]     175  --.-KB/s    in 0s      \n",
            "\n",
            "2019-03-19 15:58:26 (36.8 MB/s) - ‘4.PNG’ saved [175/175]\n",
            "\n",
            "--2019-03-19 15:58:27--  http://comp6248.ecs.soton.ac.uk/labs/lab5/5.PNG\n",
            "Resolving comp6248.ecs.soton.ac.uk (comp6248.ecs.soton.ac.uk)... 185.199.110.153, 185.199.108.153, 185.199.109.153, ...\n",
            "Connecting to comp6248.ecs.soton.ac.uk (comp6248.ecs.soton.ac.uk)|185.199.110.153|:80... connected.\n",
            "HTTP request sent, awaiting response... 200 OK\n",
            "Length: 155 [image/png]\n",
            "Saving to: ‘5.PNG’\n",
            "\n",
            "5.PNG               100%[===================>]     155  --.-KB/s    in 0s      \n",
            "\n",
            "2019-03-19 15:58:28 (32.3 MB/s) - ‘5.PNG’ saved [155/155]\n",
            "\n",
            "--2019-03-19 15:58:29--  http://comp6248.ecs.soton.ac.uk/labs/lab5/6.PNG\n",
            "Resolving comp6248.ecs.soton.ac.uk (comp6248.ecs.soton.ac.uk)... 185.199.110.153, 185.199.108.153, 185.199.109.153, ...\n",
            "Connecting to comp6248.ecs.soton.ac.uk (comp6248.ecs.soton.ac.uk)|185.199.110.153|:80... connected.\n",
            "HTTP request sent, awaiting response... 200 OK\n",
            "Length: 274 [image/png]\n",
            "Saving to: ‘6.PNG’\n",
            "\n",
            "6.PNG               100%[===================>]     274  --.-KB/s    in 0s      \n",
            "\n",
            "2019-03-19 15:58:29 (55.3 MB/s) - ‘6.PNG’ saved [274/274]\n",
            "\n",
            "--2019-03-19 15:58:31--  http://comp6248.ecs.soton.ac.uk/labs/lab5/7.PNG\n",
            "Resolving comp6248.ecs.soton.ac.uk (comp6248.ecs.soton.ac.uk)... 185.199.110.153, 185.199.108.153, 185.199.109.153, ...\n",
            "Connecting to comp6248.ecs.soton.ac.uk (comp6248.ecs.soton.ac.uk)|185.199.110.153|:80... connected.\n",
            "HTTP request sent, awaiting response... 200 OK\n",
            "Length: 157 [image/png]\n",
            "Saving to: ‘7.PNG’\n",
            "\n",
            "7.PNG               100%[===================>]     157  --.-KB/s    in 0s      \n",
            "\n",
            "2019-03-19 15:58:31 (34.4 MB/s) - ‘7.PNG’ saved [157/157]\n",
            "\n",
            "--2019-03-19 15:58:33--  http://comp6248.ecs.soton.ac.uk/labs/lab5/8.PNG\n",
            "Resolving comp6248.ecs.soton.ac.uk (comp6248.ecs.soton.ac.uk)... 185.199.110.153, 185.199.108.153, 185.199.109.153, ...\n",
            "Connecting to comp6248.ecs.soton.ac.uk (comp6248.ecs.soton.ac.uk)|185.199.110.153|:80... connected.\n",
            "HTTP request sent, awaiting response... 200 OK\n",
            "Length: 246 [image/png]\n",
            "Saving to: ‘8.PNG’\n",
            "\n",
            "8.PNG               100%[===================>]     246  --.-KB/s    in 0s      \n",
            "\n",
            "2019-03-19 15:58:33 (42.4 MB/s) - ‘8.PNG’ saved [246/246]\n",
            "\n",
            "--2019-03-19 15:58:36--  http://comp6248.ecs.soton.ac.uk/labs/lab5/9.PNG\n",
            "Resolving comp6248.ecs.soton.ac.uk (comp6248.ecs.soton.ac.uk)... 185.199.110.153, 185.199.108.153, 185.199.109.153, ...\n",
            "Connecting to comp6248.ecs.soton.ac.uk (comp6248.ecs.soton.ac.uk)|185.199.110.153|:80... connected.\n",
            "HTTP request sent, awaiting response... 200 OK\n",
            "Length: 261 [image/png]\n",
            "Saving to: ‘9.PNG’\n",
            "\n",
            "9.PNG               100%[===================>]     261  --.-KB/s    in 0s      \n",
            "\n",
            "2019-03-19 15:58:36 (45.7 MB/s) - ‘9.PNG’ saved [261/261]\n",
            "\n"
          ],
          "name": "stdout"
        }
      ]
    },
    {
      "metadata": {
        "deletable": false,
        "editable": false,
        "nbgrader": {
          "checksum": "ce20db2649381e63c13307bcd496ab41",
          "grade": false,
          "grade_id": "cell-05dc06c4f046cee9",
          "locked": true,
          "schema_version": 1,
          "solution": false
        },
        "id": "_HXLAZq8hiWa",
        "colab_type": "text"
      },
      "cell_type": "markdown",
      "source": [
        "## Reading models and propagating input\n",
        "\n",
        "At this point, we know how to train a model and how to save the resultant weights. Let's assume we're in the business of building a real system for handwritten character recognition; we need to be able to read in a previously trained model and forward propagate an image from outside the MNIST dataset through it in order to generate a prediction. Let's build some code to do just that. Firstly we need to load the model we saved in the previous part of the lab; PyTorch doesn't save the model structure by default, so you'll need to copy-paste the `BetterCNN` `forward` method implementation from the previous workbook into the block below:"
      ]
    },
    {
      "metadata": {
        "deletable": false,
        "nbgrader": {
          "checksum": "83517d0b5dd9912b14e753371891acda",
          "grade": false,
          "grade_id": "cell-25d7ce8447ab7c15",
          "locked": false,
          "schema_version": 1,
          "solution": true
        },
        "id": "g6jOhO_3hiWe",
        "colab_type": "code",
        "colab": {}
      },
      "cell_type": "code",
      "source": [
        "%matplotlib inline\n",
        "# automatically reload external modules if they change\n",
        "%load_ext autoreload\n",
        "%autoreload 2\n",
        "\n",
        "import torch \n",
        "import torch.nn.functional as F\n",
        "import matplotlib.pyplot as plt\n",
        "from torch import nn\n",
        "\n",
        "import torch \n",
        "import torch.nn.functional as F\n",
        "from torch import nn\n",
        "\n",
        "# Model Definition\n",
        "class BetterCNN(nn.Module):\n",
        "    \n",
        "    def __init__(self):\n",
        "        super(BetterCNN, self).__init__()\n",
        "        self.conv1 = nn.Conv2d(1, 30, (5, 5), padding=0)\n",
        "        self.conv2 = nn.Conv2d(30, 15, (3, 3), padding=0)\n",
        "        self.fc1 = nn.Linear(15 * 5**2, 128)\n",
        "        self.fc2 = nn.Linear(128, 50)\n",
        "        self.fc3 = nn.Linear(50, 10)\n",
        "    \n",
        "    def forward(self, x):\n",
        "        # YOUR CODE HERE\n",
        "        out = self.conv1(x)\n",
        "        out = F.relu(out)\n",
        "        out = F.max_pool2d(out,(2,2))\n",
        "        out = self.conv2(out)\n",
        "        out = F.relu(out)\n",
        "        out = F.max_pool2d(out,(2,2))\n",
        "        out = F.dropout(out, 0.2, training = self.training)\n",
        "        out = out.view(out.shape[0],-1)\n",
        "        out = self.fc1(out)\n",
        "        out = F.relu(out)\n",
        "        out = self.fc2(out)\n",
        "        out = F.relu(out)\n",
        "        out = self.fc3(out)\n",
        "        return out\n",
        "       # raise NotImplementedError()\n",
        "\n",
        "# build the model and load state\n",
        "model = BetterCNN()\n",
        "model.load_state_dict(torch.load('bettercnn.weights'))\n",
        "\n",
        "# put model in eval mode\n",
        "model = model.eval() "
      ],
      "execution_count": 0,
      "outputs": []
    },
    {
      "metadata": {
        "deletable": false,
        "editable": false,
        "nbgrader": {
          "checksum": "97971f78e75437a324758a0adf66779f",
          "grade": false,
          "grade_id": "cell-05d9eb94a8c5425c",
          "locked": true,
          "schema_version": 1,
          "solution": false
        },
        "id": "hig6run5hiWl",
        "colab_type": "text"
      },
      "cell_type": "markdown",
      "source": [
        "We've provided a set of images you can try. Let's load the one corresponding to a '1', convert it to a tensor, and display it:"
      ]
    },
    {
      "metadata": {
        "deletable": false,
        "editable": false,
        "nbgrader": {
          "checksum": "c711239daefae20c86dd0d9036bdfacd",
          "grade": false,
          "grade_id": "cell-4bd7da9513437358",
          "locked": true,
          "schema_version": 1,
          "solution": false
        },
        "id": "3uY6bh5zhiWp",
        "colab_type": "code",
        "outputId": "3a07a31a-cc68-4a3d-f36d-6e91548ed4b7",
        "colab": {
          "base_uri": "https://localhost:8080/",
          "height": 283
        }
      },
      "cell_type": "code",
      "source": [
        "from PIL import Image\n",
        "import torchvision\n",
        "\n",
        "transform = torchvision.transforms.ToTensor()\n",
        "im = transform(Image.open(\"1.PNG\"))\n",
        "\n",
        "plt.imshow(im[0], cmap=plt.get_cmap('gray'))"
      ],
      "execution_count": 0,
      "outputs": [
        {
          "output_type": "execute_result",
          "data": {
            "text/plain": [
              "<matplotlib.image.AxesImage at 0x7fe6a0b3eb70>"
            ]
          },
          "metadata": {
            "tags": []
          },
          "execution_count": 3
        },
        {
          "output_type": "display_data",
          "data": {
            "image/png": "[encoded data removed]",
            "text/plain": [
              "<Figure size 432x288 with 1 Axes>"
            ]
          },
          "metadata": {
            "tags": []
          }
        }
      ]
    },
    {
      "metadata": {
        "deletable": false,
        "editable": false,
        "nbgrader": {
          "checksum": "56476fa5813e1c34650810d8eed151ef",
          "grade": false,
          "grade_id": "cell-6cf292098a212188",
          "locked": true,
          "schema_version": 1,
          "solution": false
        },
        "id": "yX35z7jVhiWu",
        "colab_type": "text"
      },
      "cell_type": "markdown",
      "source": [
        "Now we'll use the model to make a prediction. The model expects input to have a batch dimension, so we use `unsqueeze(0)` to prepend one to the image. Recall that the model outputs the logits of the classes; the index of the biggest one will tell us which class has been predicted."
      ]
    },
    {
      "metadata": {
        "deletable": false,
        "editable": false,
        "nbgrader": {
          "checksum": "ff7a048101ce27cbe780653cd8468eca",
          "grade": false,
          "grade_id": "cell-92042c8f7b09a26d",
          "locked": true,
          "schema_version": 1,
          "solution": false
        },
        "id": "t68lgamwhiWw",
        "colab_type": "code",
        "outputId": "0cb6014f-f1bc-4abc-d04e-490d2c864385",
        "colab": {
          "base_uri": "https://localhost:8080/",
          "height": 70
        }
      },
      "cell_type": "code",
      "source": [
        "batch = im.unsqueeze(0)\n",
        "# print(batch.size())\n",
        "# print(im.size())\n",
        "predictions = model(batch)\n",
        "\n",
        "print(\"logits:\", predictions.data)\n",
        "\n",
        "_, predicted_class = predictions.max(1)\n",
        "\n",
        "print(\"predicted class:\", predicted_class.item())"
      ],
      "execution_count": 0,
      "outputs": [
        {
          "output_type": "stream",
          "text": [
            "logits: tensor([[-7.1236,  5.5641, -1.7665, -3.8519,  0.5143, -5.7687, -5.2053,  3.5936,\n",
            "          0.9588, -0.9665]])\n",
            "predicted class: 1\n"
          ],
          "name": "stdout"
        }
      ]
    },
    {
      "metadata": {
        "deletable": false,
        "editable": false,
        "nbgrader": {
          "checksum": "e83d2f7a42effd9370d399d819d592e3",
          "grade": false,
          "grade_id": "cell-dbe9d30ed68054cf",
          "locked": true,
          "schema_version": 1,
          "solution": false
        },
        "id": "FG3bc7o8hiW2",
        "colab_type": "text"
      },
      "cell_type": "markdown",
      "source": [
        "We've provided images `0.PNG` through to `9.PNG` for you to play with. Use the following code block to classify each image and print the results."
      ]
    },
    {
      "metadata": {
        "deletable": false,
        "nbgrader": {
          "checksum": "2c942b974467a9a456a2e9e4389b6f7c",
          "grade": false,
          "grade_id": "cell-27a634204f34e601",
          "locked": false,
          "schema_version": 1,
          "solution": true
        },
        "id": "MxTW_SnJhiW4",
        "colab_type": "code",
        "outputId": "32edbc50-61aa-4386-b02e-67ebe5bbaf69",
        "colab": {
          "base_uri": "https://localhost:8080/",
          "height": 195
        }
      },
      "cell_type": "code",
      "source": [
        "# YOUR CODE HERE\n",
        "for i in range(0,10):\n",
        "  \n",
        "    # Load the image and print them\n",
        "    transform = torchvision.transforms.ToTensor()\n",
        "    im = transform(Image.open(\"%s.PNG\"%(i)))\n",
        "    # plt.figure()\n",
        "    # plt.imshow(im[0], cmap=plt.get_cmap('gray'))\n",
        "    \n",
        "    # Classify the picture, printing the logits and result\n",
        "    batch = im.unsqueeze(0)\n",
        "    predictions = model(batch)\n",
        "    # print(\"logits of %s.PNG:\"%(i), predictions.data)\n",
        "    _, predicted_class = predictions.max(1)\n",
        "    print(\"predicted class of %s.PNG:\"%(i), predicted_class.item())\n",
        "    \n",
        "# print(\"\\n The following pictures show how it looks like every images\")\n",
        "\n",
        "# Analyse the misclassified images\n",
        "# print(\"\\n\")\n",
        "# print(\"There are some uncertainly wrong results\")\n",
        "# for i in [6]:\n",
        "#     transform = torchvision.transforms.ToTensor()\n",
        "#     im = transform(Image.open(\"%s.PNG\"%(i)))\n",
        "#     batch = im.unsqueeze(0)\n",
        "#     predictions = model(batch)\n",
        "#     print(\"logits of %s.PNG:\"%(i), predictions.data)\n",
        "\n",
        "#raise NotImplementedError()"
      ],
      "execution_count": 0,
      "outputs": [
        {
          "output_type": "stream",
          "text": [
            "predicted class of 0.PNG: 0\n",
            "predicted class of 1.PNG: 1\n",
            "predicted class of 2.PNG: 2\n",
            "predicted class of 3.PNG: 3\n",
            "predicted class of 4.PNG: 4\n",
            "predicted class of 5.PNG: 5\n",
            "predicted class of 6.PNG: 5\n",
            "predicted class of 7.PNG: 7\n",
            "predicted class of 8.PNG: 8\n",
            "predicted class of 9.PNG: 9\n"
          ],
          "name": "stdout"
        }
      ]
    },
    {
      "metadata": {
        "deletable": false,
        "editable": false,
        "nbgrader": {
          "checksum": "7126e6798f657baa53e1d4e360614e02",
          "grade": false,
          "grade_id": "cell-b1f2a02a37c3f405",
          "locked": true,
          "schema_version": 1,
          "solution": false
        },
        "id": "A3Ya_72MhiW_",
        "colab_type": "text"
      },
      "cell_type": "markdown",
      "source": [
        "__Answer the following question (enter the answer in the box below each one):__\n",
        "\n",
        "__1.__ How many images were missclassified? Which images?"
      ]
    },
    {
      "metadata": {
        "deletable": false,
        "nbgrader": {
          "checksum": "2bfced6d006c0b957ba58544a03b12f2",
          "grade": true,
          "grade_id": "cell-092c153f41f2dd1d",
          "locked": false,
          "points": 2,
          "schema_version": 1,
          "solution": true
        },
        "id": "1ic8gS-fhiXB",
        "colab_type": "text"
      },
      "cell_type": "markdown",
      "source": [
        "Only one image is always misclassified. It is 6.PNG"
      ]
    }
  ]
}