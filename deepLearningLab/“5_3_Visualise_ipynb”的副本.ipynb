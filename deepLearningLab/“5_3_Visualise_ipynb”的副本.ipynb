{
  "nbformat": 4,
  "nbformat_minor": 0,
  "metadata": {
    "colab": {
      "name": "“5_3_Visualise.ipynb”的副本",
      "version": "0.3.2",
      "provenance": [],
      "collapsed_sections": []
    },
    "kernelspec": {
      "name": "python3",
      "display_name": "Python 3"
    },
    "accelerator": "GPU"
  },
  "cells": [
    {
      "metadata": {
        "deletable": false,
        "editable": false,
        "nbgrader": {
          "checksum": "42d798a03926cde5ab0a0b773d323e29",
          "grade": false,
          "grade_id": "cell-4e4261db2c4407db",
          "locked": true,
          "schema_version": 1,
          "solution": false
        },
        "id": "_tp3yiomhlbB",
        "colab_type": "text"
      },
      "cell_type": "markdown",
      "source": [
        "# Part 3: Visualising Convolutional Networks"
      ]
    },
    {
      "metadata": {
        "deletable": false,
        "editable": false,
        "nbgrader": {
          "checksum": "8f7b02984d508010e854561de75ff6d3",
          "grade": false,
          "grade_id": "cell-a649bda900315eaa",
          "locked": true,
          "schema_version": 1,
          "solution": false
        },
        "id": "GSjqt5LohlbH",
        "colab_type": "text"
      },
      "cell_type": "markdown",
      "source": [
        "__Before starting, we recommend you enable GPU acceleration if you're running on Colab. You'll also need to upload the weights you downloaded previously using the following block and using the upload button to upload your bettercnn.weights file:__"
      ]
    },
    {
      "metadata": {
        "id": "UTEmI8xIhlbJ",
        "colab_type": "code",
        "outputId": "6351d1ad-c228-4247-df86-252dfacd4d7b",
        "colab": {
          "resources": {
            "http://localhost:8080/nbextensions/google.colab/files.js": {
              "data": "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",
              "ok": true,
              "headers": [
                [
                  "content-type",
                  "application/javascript"
                ]
              ],
              "status": 200,
              "status_text": ""
            }
          },
          "base_uri": "https://localhost:8080/",
          "height": 1998
        }
      },
      "cell_type": "code",
      "source": [
        "# Execute this code block to install dependencies when running on colab\n",
        "try:\n",
        "    import torch\n",
        "except:\n",
        "    from os.path import exists\n",
        "    from wheel.pep425tags import get_abbr_impl, get_impl_ver, get_abi_tag\n",
        "    platform = '{}{}-{}'.format(get_abbr_impl(), get_impl_ver(), get_abi_tag())\n",
        "    cuda_output = !ldconfig -p|grep cudart.so|sed -e 's/.*\\.\\([0-9]*\\)\\.\\([0-9]*\\)$/cu\\1\\2/'\n",
        "    accelerator = cuda_output[0] if exists('/dev/nvidia0') else 'cpu'\n",
        "\n",
        "    !pip install -q http://download.pytorch.org/whl/{accelerator}/torch-1.0.0-{platform}-linux_x86_64.whl torchvision\n",
        "\n",
        "try: \n",
        "    import torchbearer\n",
        "except:\n",
        "    !pip install torchbearer\n",
        "    \n",
        "try:\n",
        "    from google.colab import files\n",
        "    uploaded = files.upload()\n",
        "except:\n",
        "    print(\"Not running on colab. Ignoring.\")\n",
        "\n",
        "!wget http://comp6248.ecs.soton.ac.uk/labs/lab5/0.PNG\n",
        "!wget http://comp6248.ecs.soton.ac.uk/labs/lab5/1.PNG\n",
        "!wget http://comp6248.ecs.soton.ac.uk/labs/lab5/2.PNG\n",
        "!wget http://comp6248.ecs.soton.ac.uk/labs/lab5/3.PNG\n",
        "!wget http://comp6248.ecs.soton.ac.uk/labs/lab5/4.PNG\n",
        "!wget http://comp6248.ecs.soton.ac.uk/labs/lab5/5.PNG\n",
        "!wget http://comp6248.ecs.soton.ac.uk/labs/lab5/6.PNG\n",
        "!wget http://comp6248.ecs.soton.ac.uk/labs/lab5/7.PNG\n",
        "!wget http://comp6248.ecs.soton.ac.uk/labs/lab5/8.PNG\n",
        "!wget http://comp6248.ecs.soton.ac.uk/labs/lab5/9.PNG"
      ],
      "execution_count": 0,
      "outputs": [
        {
          "output_type": "display_data",
          "data": {
            "text/html": [
              "\n",
              "     <input type=\"file\" id=\"files-6fc8ad1d-525e-422e-91d0-497489e34716\" name=\"files[]\" multiple disabled />\n",
              "     <output id=\"result-6fc8ad1d-525e-422e-91d0-497489e34716\">\n",
              "      Upload widget is only available when the cell has been executed in the\n",
              "      current browser session. Please rerun this cell to enable.\n",
              "      </output>\n",
              "      <script src=\"/nbextensions/google.colab/files.js\"></script> "
            ],
            "text/plain": [
              "<IPython.core.display.HTML object>"
            ]
          },
          "metadata": {
            "tags": []
          }
        },
        {
          "output_type": "stream",
          "text": [
            "--2019-03-19 16:25:54--  http://comp6248.ecs.soton.ac.uk/labs/lab5/0.PNG\n",
            "Resolving comp6248.ecs.soton.ac.uk (comp6248.ecs.soton.ac.uk)... 185.199.110.153, 185.199.108.153, 185.199.109.153, ...\n",
            "Connecting to comp6248.ecs.soton.ac.uk (comp6248.ecs.soton.ac.uk)|185.199.110.153|:80... connected.\n",
            "HTTP request sent, awaiting response... 200 OK\n",
            "Length: 2514 (2.5K) [image/png]\n",
            "Saving to: ‘0.PNG.1’\n",
            "\n",
            "\r0.PNG.1               0%[                    ]       0  --.-KB/s               \r0.PNG.1             100%[===================>]   2.46K  --.-KB/s    in 0s      \n",
            "\n",
            "2019-03-19 16:25:54 (333 MB/s) - ‘0.PNG.1’ saved [2514/2514]\n",
            "\n",
            "--2019-03-19 16:25:57--  http://comp6248.ecs.soton.ac.uk/labs/lab5/1.PNG\n",
            "Resolving comp6248.ecs.soton.ac.uk (comp6248.ecs.soton.ac.uk)... 185.199.110.153, 185.199.108.153, 185.199.109.153, ...\n",
            "Connecting to comp6248.ecs.soton.ac.uk (comp6248.ecs.soton.ac.uk)|185.199.110.153|:80... connected.\n",
            "HTTP request sent, awaiting response... 200 OK\n",
            "Length: 2448 (2.4K) [image/png]\n",
            "Saving to: ‘1.PNG.1’\n",
            "\n",
            "1.PNG.1             100%[===================>]   2.39K  --.-KB/s    in 0s      \n",
            "\n",
            "2019-03-19 16:25:57 (305 MB/s) - ‘1.PNG.1’ saved [2448/2448]\n",
            "\n",
            "--2019-03-19 16:26:01--  http://comp6248.ecs.soton.ac.uk/labs/lab5/2.PNG\n",
            "Resolving comp6248.ecs.soton.ac.uk (comp6248.ecs.soton.ac.uk)... 185.199.110.153, 185.199.108.153, 185.199.109.153, ...\n",
            "Connecting to comp6248.ecs.soton.ac.uk (comp6248.ecs.soton.ac.uk)|185.199.110.153|:80... connected.\n",
            "HTTP request sent, awaiting response... 200 OK\n",
            "Length: 156 [image/png]\n",
            "Saving to: ‘2.PNG.1’\n",
            "\n",
            "2.PNG.1             100%[===================>]     156  --.-KB/s    in 0s      \n",
            "\n",
            "2019-03-19 16:26:01 (21.2 MB/s) - ‘2.PNG.1’ saved [156/156]\n",
            "\n",
            "--2019-03-19 16:26:05--  http://comp6248.ecs.soton.ac.uk/labs/lab5/3.PNG\n",
            "Resolving comp6248.ecs.soton.ac.uk (comp6248.ecs.soton.ac.uk)... 185.199.110.153, 185.199.108.153, 185.199.109.153, ...\n",
            "Connecting to comp6248.ecs.soton.ac.uk (comp6248.ecs.soton.ac.uk)|185.199.110.153|:80... connected.\n",
            "HTTP request sent, awaiting response... 200 OK\n",
            "Length: 229 [image/png]\n",
            "Saving to: ‘3.PNG.1’\n",
            "\n",
            "3.PNG.1             100%[===================>]     229  --.-KB/s    in 0s      \n",
            "\n",
            "2019-03-19 16:26:05 (44.7 MB/s) - ‘3.PNG.1’ saved [229/229]\n",
            "\n",
            "--2019-03-19 16:26:09--  http://comp6248.ecs.soton.ac.uk/labs/lab5/4.PNG\n",
            "Resolving comp6248.ecs.soton.ac.uk (comp6248.ecs.soton.ac.uk)... 185.199.110.153, 185.199.108.153, 185.199.109.153, ...\n",
            "Connecting to comp6248.ecs.soton.ac.uk (comp6248.ecs.soton.ac.uk)|185.199.110.153|:80... connected.\n",
            "HTTP request sent, awaiting response... 200 OK\n",
            "Length: 175 [image/png]\n",
            "Saving to: ‘4.PNG.1’\n",
            "\n",
            "4.PNG.1             100%[===================>]     175  --.-KB/s    in 0s      \n",
            "\n",
            "2019-03-19 16:26:09 (31.9 MB/s) - ‘4.PNG.1’ saved [175/175]\n",
            "\n",
            "--2019-03-19 16:26:11--  http://comp6248.ecs.soton.ac.uk/labs/lab5/5.PNG\n",
            "Resolving comp6248.ecs.soton.ac.uk (comp6248.ecs.soton.ac.uk)... 185.199.110.153, 185.199.108.153, 185.199.109.153, ...\n",
            "Connecting to comp6248.ecs.soton.ac.uk (comp6248.ecs.soton.ac.uk)|185.199.110.153|:80... connected.\n",
            "HTTP request sent, awaiting response... 200 OK\n",
            "Length: 155 [image/png]\n",
            "Saving to: ‘5.PNG.1’\n",
            "\n",
            "5.PNG.1             100%[===================>]     155  --.-KB/s    in 0s      \n",
            "\n",
            "2019-03-19 16:26:11 (30.6 MB/s) - ‘5.PNG.1’ saved [155/155]\n",
            "\n",
            "--2019-03-19 16:26:13--  http://comp6248.ecs.soton.ac.uk/labs/lab5/6.PNG\n",
            "Resolving comp6248.ecs.soton.ac.uk (comp6248.ecs.soton.ac.uk)... 185.199.110.153, 185.199.108.153, 185.199.109.153, ...\n",
            "Connecting to comp6248.ecs.soton.ac.uk (comp6248.ecs.soton.ac.uk)|185.199.110.153|:80... connected.\n",
            "HTTP request sent, awaiting response... 200 OK\n",
            "Length: 274 [image/png]\n",
            "Saving to: ‘6.PNG.1’\n",
            "\n",
            "6.PNG.1             100%[===================>]     274  --.-KB/s    in 0s      \n",
            "\n",
            "2019-03-19 16:26:13 (51.2 MB/s) - ‘6.PNG.1’ saved [274/274]\n",
            "\n",
            "--2019-03-19 16:26:14--  http://comp6248.ecs.soton.ac.uk/labs/lab5/7.PNG\n",
            "Resolving comp6248.ecs.soton.ac.uk (comp6248.ecs.soton.ac.uk)... 185.199.110.153, 185.199.108.153, 185.199.109.153, ...\n",
            "Connecting to comp6248.ecs.soton.ac.uk (comp6248.ecs.soton.ac.uk)|185.199.110.153|:80... connected.\n",
            "HTTP request sent, awaiting response... 200 OK\n",
            "Length: 157 [image/png]\n",
            "Saving to: ‘7.PNG.1’\n",
            "\n",
            "7.PNG.1             100%[===================>]     157  --.-KB/s    in 0s      \n",
            "\n",
            "2019-03-19 16:26:15 (21.1 MB/s) - ‘7.PNG.1’ saved [157/157]\n",
            "\n",
            "--2019-03-19 16:26:17--  http://comp6248.ecs.soton.ac.uk/labs/lab5/8.PNG\n",
            "Resolving comp6248.ecs.soton.ac.uk (comp6248.ecs.soton.ac.uk)... 185.199.110.153, 185.199.108.153, 185.199.109.153, ...\n",
            "Connecting to comp6248.ecs.soton.ac.uk (comp6248.ecs.soton.ac.uk)|185.199.110.153|:80... connected.\n",
            "HTTP request sent, awaiting response... 200 OK\n",
            "Length: 246 [image/png]\n",
            "Saving to: ‘8.PNG.1’\n",
            "\n",
            "8.PNG.1             100%[===================>]     246  --.-KB/s    in 0s      \n",
            "\n",
            "2019-03-19 16:26:17 (29.3 MB/s) - ‘8.PNG.1’ saved [246/246]\n",
            "\n",
            "--2019-03-19 16:26:19--  http://comp6248.ecs.soton.ac.uk/labs/lab5/9.PNG\n",
            "Resolving comp6248.ecs.soton.ac.uk (comp6248.ecs.soton.ac.uk)... 185.199.110.153, 185.199.108.153, 185.199.109.153, ...\n",
            "Connecting to comp6248.ecs.soton.ac.uk (comp6248.ecs.soton.ac.uk)|185.199.110.153|:80... connected.\n",
            "HTTP request sent, awaiting response... 200 OK\n",
            "Length: 261 [image/png]\n",
            "Saving to: ‘9.PNG.1’\n",
            "\n",
            "9.PNG.1             100%[===================>]     261  --.-KB/s    in 0s      \n",
            "\n",
            "2019-03-19 16:26:19 (35.0 MB/s) - ‘9.PNG.1’ saved [261/261]\n",
            "\n"
          ],
          "name": "stdout"
        }
      ]
    },
    {
      "metadata": {
        "deletable": false,
        "editable": false,
        "nbgrader": {
          "checksum": "08fe8a49e72d2b717e24d8a336779c6f",
          "grade": false,
          "grade_id": "cell-c83aaff989e87ceb",
          "locked": true,
          "schema_version": 1,
          "solution": false
        },
        "id": "tkeqbo8GhlbQ",
        "colab_type": "text"
      },
      "cell_type": "markdown",
      "source": [
        "## Visualising the first layers filters and responses\n",
        "\n",
        "In our previous `BetterCNN` convolutional network, the first layer was a Convolutional layer. Because this convolutional layer is applied directly to the greylevel input MNIST images the filters that are learned can themselves just be considered to be small (5x5 in this case) greylevel images. \n",
        "\n",
        "We'll start by doing a few imports and then loading our pre-trained model. Once again, please copy-paste the forward method from the first workbook:"
      ]
    },
    {
      "metadata": {
        "deletable": false,
        "nbgrader": {
          "checksum": "87de33eb79dfec8861fd9437cf71a989",
          "grade": false,
          "grade_id": "cell-558c383ad9759aed",
          "locked": false,
          "schema_version": 1,
          "solution": true
        },
        "id": "PA8tiGDchlbS",
        "colab_type": "code",
        "colab": {}
      },
      "cell_type": "code",
      "source": [
        "%matplotlib inline\n",
        "# automatically reload external modules if they change\n",
        "%load_ext autoreload\n",
        "%autoreload 2\n",
        "\n",
        "import torch \n",
        "import torch.nn.functional as F\n",
        "import matplotlib.pyplot as plt\n",
        "from torch import nn\n",
        "\n",
        "import torch \n",
        "import torch.nn.functional as F\n",
        "from torch import nn\n",
        "\n",
        "# Model Definition\n",
        "class BetterCNN(nn.Module):\n",
        "    def __init__(self):\n",
        "        super(BetterCNN, self).__init__()\n",
        "        self.conv1 = nn.Conv2d(1, 30, (5, 5), padding=0)\n",
        "        self.conv2 = nn.Conv2d(30, 15, (3, 3), padding=0)\n",
        "        self.fc1 = nn.Linear(15 * 5**2, 128)\n",
        "        self.fc2 = nn.Linear(128, 50)\n",
        "        self.fc3 = nn.Linear(50, 10)\n",
        "    \n",
        "    def forward(self, x):\n",
        "        # YOUR CODE HERE\n",
        "        out = self.conv1(x)\n",
        "        out = F.relu(out)\n",
        "        out = F.max_pool2d(out,(2,2))\n",
        "        out = self.conv2(out)\n",
        "        out = F.relu(out)\n",
        "        out = F.max_pool2d(out,(2,2))\n",
        "        out =F.dropout(out, 0.2, training = self.training)\n",
        "        out = out.view(out.shape[0],-1)\n",
        "        out = self.fc1(out)\n",
        "        out = F.relu(out)\n",
        "        out = self.fc2(out)\n",
        "        out = F.relu(out)\n",
        "        out = self.fc3(out)\n",
        "        return out\n",
        "        # raise NotImplementedError()\n",
        "\n",
        "# build the model and load state\n",
        "model = BetterCNN()\n",
        "model.load_state_dict(torch.load('bettercnn.weights'))"
      ],
      "execution_count": 0,
      "outputs": []
    },
    {
      "metadata": {
        "deletable": false,
        "editable": false,
        "nbgrader": {
          "checksum": "17db475c8135fcad22ed0a5bce95a7cf",
          "grade": false,
          "grade_id": "cell-de20621d24cc0077",
          "locked": true,
          "schema_version": 1,
          "solution": false
        },
        "id": "ZWGXP8NohlbY",
        "colab_type": "text"
      },
      "cell_type": "markdown",
      "source": [
        "We can extract the weights of the first layer filters directly from the trained network and visualise them using `matplotlib` like this:"
      ]
    },
    {
      "metadata": {
        "deletable": false,
        "editable": false,
        "nbgrader": {
          "checksum": "498b26024fded2ac188cba15e67fe7c7",
          "grade": false,
          "grade_id": "cell-0a9f4f87c60ba0cf",
          "locked": true,
          "schema_version": 1,
          "solution": false
        },
        "id": "ds1NKRQHhlbb",
        "colab_type": "code",
        "outputId": "c3790693-cc5b-41ca-bd26-221ea0b9a20c",
        "colab": {
          "base_uri": "https://localhost:8080/",
          "height": 266
        }
      },
      "cell_type": "code",
      "source": [
        "from scipy.misc import imread\n",
        "\n",
        "weights = model.conv1.weight.data.cpu()\n",
        "\n",
        "# plot the first layer features\n",
        "for i in range(0,30):\n",
        "\tplt.subplot(5,6,i+1)\n",
        "\tplt.imshow(weights[i, 0, :, :], cmap=plt.get_cmap('gray'))\n",
        "plt.show()"
      ],
      "execution_count": 0,
      "outputs": [
        {
          "output_type": "display_data",
          "data": {
            "image/png": "[encoded data removed]",
            "text/plain": [
              "<Figure size 432x288 with 30 Axes>"
            ]
          },
          "metadata": {
            "tags": []
          }
        }
      ]
    },
    {
      "metadata": {
        "deletable": false,
        "editable": false,
        "nbgrader": {
          "checksum": "29f5b6fd6822465d1c53a7d130544b51",
          "grade": false,
          "grade_id": "cell-e63cf51ff4cf8e11",
          "locked": true,
          "schema_version": 1,
          "solution": false
        },
        "id": "NwADXCxKhlbf",
        "colab_type": "text"
      },
      "cell_type": "markdown",
      "source": [
        "Note that `model.conv1.data` is the tensor holding the weights. Calling `cpu()` ensures data is moved over from the GPU if necessary.\n",
        "\n",
        "__Answer the following question (enter the answer in the box below):__\n",
        "\n",
        "__1.__ What sort of features do the filters resemble? How does this relate to your knowledge of the training data?"
      ]
    },
    {
      "metadata": {
        "deletable": false,
        "nbgrader": {
          "checksum": "e13855c661d083543ba506aaae35dec6",
          "grade": true,
          "grade_id": "cell-2a6cfda360da7de9",
          "locked": false,
          "points": 2,
          "schema_version": 1,
          "solution": true
        },
        "id": "S0SZo9GLhlbi",
        "colab_type": "text"
      },
      "cell_type": "markdown",
      "source": [
        "The filters extract features by convolutions. It compute values of the freature in each filter window.\n",
        "\n",
        "The training data gives the whole image as input, which is hard to process without filters."
      ]
    },
    {
      "metadata": {
        "deletable": false,
        "editable": false,
        "nbgrader": {
          "checksum": "548977341456f673d50cbb1e1638f15f",
          "grade": false,
          "grade_id": "cell-c5c8d0378f255698",
          "locked": true,
          "schema_version": 1,
          "solution": false
        },
        "id": "TmAkkuH6hlbj",
        "colab_type": "text"
      },
      "cell_type": "markdown",
      "source": [
        "## Visualising feature maps\n",
        "\n",
        "If we forward propagate an input through the network we can also visualise the response maps generated by the filters. The advantage of this kind of visualisation is that we can compute it at any layer, not just the first one. In order to do this in PyTorch, we can propagate the given input through the network to the required point and use a `hook` to intercept the feature maps as they are created. The following code shows how this can be achieved to generate the response maps of the second convolutional layer of our network:"
      ]
    },
    {
      "metadata": {
        "deletable": false,
        "editable": false,
        "nbgrader": {
          "checksum": "35654c5ee8d457863c4f402cd4ad4864",
          "grade": false,
          "grade_id": "cell-8fb551f4810e7d84",
          "locked": true,
          "schema_version": 1,
          "solution": false
        },
        "id": "sixSGEn5hlbl",
        "colab_type": "code",
        "outputId": "0d36cd8c-c884-4d7e-8883-0392cf8dcac3",
        "colab": {
          "base_uri": "https://localhost:8080/",
          "height": 222
        }
      },
      "cell_type": "code",
      "source": [
        "from PIL import Image\n",
        "import torchvision\n",
        "\n",
        "transform = torchvision.transforms.ToTensor()\n",
        "im = transform(Image.open(\"1.PNG\")).unsqueeze(0)\n",
        "\n",
        "def hook_function(module, grad_in, grad_out):\n",
        "    for i in range(grad_out.shape[1]):\n",
        "        conv_output = grad_out.data[0, i]\n",
        "        plt.subplot(5, int(1+grad_out.shape[1]/5), i+1)\n",
        "        plt.imshow(conv_output, cmap=plt.get_cmap('gray'))\n",
        "        \n",
        "hook = model.conv2.register_forward_hook(hook_function) # register the hook\n",
        "model(im) # forward pass\n",
        "hook.remove() #Tidy up"
      ],
      "execution_count": 0,
      "outputs": [
        {
          "output_type": "display_data",
          "data": {
            "image/png": "[encoded data removed]",
            "text/plain": [
              "<Figure size 432x288 with 15 Axes>"
            ]
          },
          "metadata": {
            "tags": []
          }
        }
      ]
    },
    {
      "metadata": {
        "deletable": false,
        "editable": false,
        "nbgrader": {
          "checksum": "eaff622c48d684ffe466a627534deff5",
          "grade": false,
          "grade_id": "cell-106a1c8abf99792d",
          "locked": true,
          "schema_version": 1,
          "solution": false
        },
        "id": "GLy_4NI-hlbs",
        "colab_type": "text"
      },
      "cell_type": "markdown",
      "source": [
        "__Use the following code block to visualise the feature maps of the first convolutional layer__:"
      ]
    },
    {
      "metadata": {
        "id": "KLVbQ0gMhlbt",
        "colab_type": "code",
        "outputId": "5d87548e-d7b1-4362-c78b-0e2ec41fa8ca",
        "colab": {
          "base_uri": "https://localhost:8080/",
          "height": 269
        }
      },
      "cell_type": "code",
      "source": [
        "transform = torchvision.transforms.ToTensor()\n",
        "im = transform(Image.open(\"1.PNG\")).unsqueeze(0)\n",
        "\n",
        "def hook_function(module, grad_in, grad_out):\n",
        "    for i in range(grad_out.shape[1]):\n",
        "        conv_output = grad_out.data[0, i]\n",
        "        plt.subplot(5, int(1+grad_out.shape[1]/5), i+1)\n",
        "        plt.imshow(conv_output, cmap=plt.get_cmap('gray'))\n",
        "        \n",
        "hook = model.conv1.register_forward_hook(hook_function) # register the hook\n",
        "model(im) # forward pass\n",
        "hook.remove() #Tidy up"
      ],
      "execution_count": 0,
      "outputs": [
        {
          "output_type": "display_data",
          "data": {
            "image/png": "[encoded data removed]",
            "text/plain": [
              "<Figure size 432x288 with 30 Axes>"
            ]
          },
          "metadata": {
            "tags": []
          }
        }
      ]
    },
    {
      "metadata": {
        "deletable": false,
        "editable": false,
        "nbgrader": {
          "checksum": "d65d2123a4d36fa419fd0157c5f2c06f",
          "grade": false,
          "grade_id": "cell-63d2c948620d68d2",
          "locked": true,
          "schema_version": 1,
          "solution": false
        },
        "id": "61KpnIq4hlby",
        "colab_type": "text"
      },
      "cell_type": "markdown",
      "source": [
        "A final way of visualising what the filters (at any depth) are learning is to find the input image that maximises the response of the filter. We can do this by starting with a random image and using gradient ascent to optimise the image to maximise the chosen filter (see http://www.iro.umontreal.ca/~lisa/publications2/index.php/publications/show/247 and https://distill.pub/2017/feature-visualization/ for more info on this approach). The following code snippet shows how this can be achieved:"
      ]
    },
    {
      "metadata": {
        "id": "mED_zBcYhlb0",
        "colab_type": "code",
        "outputId": "64cd0da2-e64d-408a-e7e3-6f9d8a8cd8a1",
        "colab": {
          "base_uri": "https://localhost:8080/",
          "height": 227
        }
      },
      "cell_type": "code",
      "source": [
        "def visualise_maximum_activation(model, target, num=10, alpha = 1.0):\n",
        "    for selected in range(num):\n",
        "        input_img = torch.randn(1, 1, 28, 28, requires_grad=True)\n",
        "\n",
        "        # we're interested in maximising outputs of the 3rd layer:\n",
        "        conv_output = None\n",
        "\n",
        "        def hook_function(module, grad_in, grad_out):\n",
        "            nonlocal conv_output\n",
        "            # Gets the conv output of the selected filter/feature (from selected layer)\n",
        "            conv_output = grad_out[0, selected]\n",
        "\n",
        "        hook = target.register_forward_hook(hook_function)\n",
        "\n",
        "        for i in range(30):\n",
        "            model(input_img)\n",
        "            loss = torch.mean(conv_output)\n",
        "            loss.backward()\n",
        "\n",
        "            norm = input_img.grad.std() + 1e-5\n",
        "            input_img.grad /= norm\n",
        "            input_img.data = input_img + alpha * input_img.grad\n",
        "\n",
        "        hook.remove()\n",
        "\n",
        "        input_img = input_img.detach()\n",
        "\n",
        "        plt.subplot(2,num/2,selected+1)\n",
        "        plt.imshow(input_img[0,0], cmap=plt.get_cmap('gray'))\n",
        "\n",
        "    plt.show()\n",
        "    \n",
        "visualise_maximum_activation(model, model.fc3)"
      ],
      "execution_count": 0,
      "outputs": [
        {
          "output_type": "display_data",
          "data": {
            "image/png": "[encoded data removed]",
            "text/plain": [
              "<Figure size 432x288 with 10 Axes>"
            ]
          },
          "metadata": {
            "tags": []
          }
        }
      ]
    }
  ]
}