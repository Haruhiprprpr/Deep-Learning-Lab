{
  "nbformat": 4,
  "nbformat_minor": 0,
  "metadata": {
    "colab": {
      "name": "“7_2_WordEmbeddings.ipynb”的副本",
      "version": "0.3.2",
      "provenance": [],
      "collapsed_sections": []
    },
    "language_info": {
      "codemirror_mode": {
        "name": "ipython",
        "version": 3
      },
      "file_extension": ".py",
      "mimetype": "text/x-python",
      "name": "python",
      "nbconvert_exporter": "python",
      "pygments_lexer": "ipython3",
      "version": "3.6.7"
    },
    "kernelspec": {
      "name": "python3",
      "display_name": "Python 3"
    },
    "accelerator": "GPU"
  },
  "cells": [
    {
      "cell_type": "markdown",
      "metadata": {
        "deletable": false,
        "editable": false,
        "nbgrader": {
          "checksum": "984959cd4675237d2964d0036770360d",
          "grade": false,
          "grade_id": "cell-6f17f4f5348cd26a",
          "locked": true,
          "schema_version": 1,
          "solution": false
        },
        "id": "bGpYp8bKChMi",
        "colab_type": "text"
      },
      "source": [
        "# Part 2: Word Embeddings"
      ]
    },
    {
      "cell_type": "code",
      "metadata": {
        "deletable": false,
        "editable": false,
        "nbgrader": {
          "checksum": "09ae37aba80f8a3d948cadbed7991dee",
          "grade": false,
          "grade_id": "cell-426d00926ef2a948",
          "locked": true,
          "schema_version": 1,
          "solution": false
        },
        "id": "J8bDHq-eChMl",
        "colab_type": "code",
        "colab": {}
      },
      "source": [
        "# Execute this code block to install dependencies when running on colab\n",
        "try:\n",
        "    import torch\n",
        "except:\n",
        "    from os.path import exists\n",
        "    from wheel.pep425tags import get_abbr_impl, get_impl_ver, get_abi_tag\n",
        "    platform = '{}{}-{}'.format(get_abbr_impl(), get_impl_ver(), get_abi_tag())\n",
        "    cuda_output = !ldconfig -p|grep cudart.so|sed -e 's/.*\\.\\([0-9]*\\)\\.\\([0-9]*\\)$/cu\\1\\2/'\n",
        "    accelerator = cuda_output[0] if exists('/dev/nvidia0') else 'cpu'\n",
        "\n",
        "    !pip install -q http://download.pytorch.org/whl/{accelerator}/torch-1.0.0-{platform}-linux_x86_64.whl torchvision\n",
        "\n",
        "try: \n",
        "    import torchbearer\n",
        "except:\n",
        "    !pip install torchbearer\n",
        "    \n",
        "try:\n",
        "    import torchtext\n",
        "except:\n",
        "    !pip install torchtext\n",
        "    \n",
        "try:\n",
        "    import spacy\n",
        "except:\n",
        "    !pip install spacy\n",
        "\n",
        "try:\n",
        "    spacy.load('en')\n",
        "except:\n",
        "    !python -m spacy download en"
      ],
      "execution_count": 0,
      "outputs": []
    },
    {
      "cell_type": "markdown",
      "metadata": {
        "deletable": false,
        "editable": false,
        "nbgrader": {
          "checksum": "d61a9db4eae318662e2d525b44722941",
          "grade": false,
          "grade_id": "cell-cc5d1e090cea2dd0",
          "locked": true,
          "schema_version": 1,
          "solution": false
        },
        "id": "QTH1lxH_ChMp",
        "colab_type": "text"
      },
      "source": [
        "Word embeddings transform a one-hot encoded vector (a vector that is 0 in elements except one, which is 1) into a much smaller dimension vector of real numbers. The one-hot encoded vector is a *sparse vector*, whilst the real valued vector is a *dense vector*. \n",
        "\n",
        "The key concept in these word embeddings is that words that appear in similar _contexts_ appear nearby in the vector space, i.e. the Euclidean distance between these two word vectors is small. By context here, we mean the surrounding words. For example in the sentences \"I purchased some items at the shop\" and \"I purchased some items at the store\" the words 'shop' and 'store' appear in the same context and thus should be close together in vector space.\n",
        "\n",
        "We'll talk about some of the well-known algorithms for learning embeddings in the lectures, but you might have already heard of a popular model called *word2vec*, which was first published in a rejected ICLR submission (it has some pretty damning reviews, but also has thousands of citations!). In this lab we'll use pre-trained *GloVe* vectors. *GloVe* is a different algorithm for computing word vectors, although the outcome is similar to *word2vec*. These pre-trained embeddings have been trained on a gigantic corpus. We can use these pre-trained vectors within any of our models, with the idea that as they have already learned the context of each word they will give us a better starting point for our word vectors. This usually leads to faster training time and/or improved accuracy.\n",
        "\n",
        "In PyTorch, we use word vectors with the `nn.Embedding` layer, which takes a _**[sentence length, batch size]**_ tensor and transforms it into a _**[sentence length, batch size, embedding dimensions]**_ tensor. `nn.Embedding` layers can be trained from scratch, or they can be initialised (and optionally fixed) with pre-trained embedding data. The key thing to remember about an `nn.Embedding` is that it does not need to explicitly use a one-hot vector representation at any point; it just maps an index to a vector. This is important because it implies massive computational savings; more concretly an Emdedding is essentially a linear map in which the weight matrix of the linear layer is multiplied by a one-hot sparse-vector to produce a lower-dimensional (dense) output. This is exactly equivalent to just selecting the column of the weight matrix corresponding to the index represented by the sparse vector.\n",
        "\n",
        "In this part of the lab we won't be training any models; instead we'll be looking at the word embeddings and investigating a few interesting things we can do with them.\n",
        "\n",
        "## Loading the GloVe vectors\n",
        "\n",
        "First, we'll load the pre-trained GloVe vectors. The `name` field specifies what the vectors have been trained on, here the `6B` means a corpus of 6 billion words. The `dim` argument specifies the dimensionality of the word vectors. GloVe vectors are available in 50, 100, 200 and 300 dimensions. There is also a `42B` and `840B` glove vectors, however they are only available at 300 dimensions. The first time you run this it will take time as the vectors need to be downloaded:"
      ]
    },
    {
      "cell_type": "code",
      "metadata": {
        "deletable": false,
        "editable": false,
        "nbgrader": {
          "checksum": "ad157a2a3b61280e0b6f17bd3ad12faa",
          "grade": false,
          "grade_id": "cell-aceafa53d8c3ee9e",
          "locked": true,
          "schema_version": 1,
          "solution": false
        },
        "id": "NalIH00GChMq",
        "colab_type": "code",
        "outputId": "6826deb9-88b3-4eb4-d704-87b2f13affde",
        "colab": {
          "base_uri": "https://localhost:8080/",
          "height": 35
        }
      },
      "source": [
        "import torchtext.vocab\n",
        "\n",
        "glove = torchtext.vocab.GloVe(name='6B', dim=100)\n",
        "\n",
        "print(f'There are {len(glove.itos)} words in the vocabulary')"
      ],
      "execution_count": 14,
      "outputs": [
        {
          "output_type": "stream",
          "text": [
            "There are 400000 words in the vocabulary\n"
          ],
          "name": "stdout"
        }
      ]
    },
    {
      "cell_type": "markdown",
      "metadata": {
        "deletable": false,
        "editable": false,
        "nbgrader": {
          "checksum": "6d6d3a9d7c029ce69fbc5b4b65d8dcf7",
          "grade": false,
          "grade_id": "cell-504c748c992c4304",
          "locked": true,
          "schema_version": 1,
          "solution": false
        },
        "id": "0jazCT5DChMv",
        "colab_type": "text"
      },
      "source": [
        "As shown above, there are 400,000 unique words in the GloVe vocabulary. These are the most common words found in the corpus the vectors were trained on. **In these set of GloVe vectors, every single word is lower-case only.**\n",
        "\n",
        "`glove.vectors` is the actual tensor containing the values of the embeddings."
      ]
    },
    {
      "cell_type": "code",
      "metadata": {
        "deletable": false,
        "editable": false,
        "nbgrader": {
          "checksum": "5c17fc906f39bcc8ad50be640173a9fa",
          "grade": false,
          "grade_id": "cell-d581dee4f722cca5",
          "locked": true,
          "schema_version": 1,
          "solution": false
        },
        "id": "JF9a2rF0ChMv",
        "colab_type": "code",
        "outputId": "c2a22b4f-6473-4f30-f465-696bbb612704",
        "colab": {
          "base_uri": "https://localhost:8080/",
          "height": 35
        }
      },
      "source": [
        "glove.vectors.shape"
      ],
      "execution_count": 15,
      "outputs": [
        {
          "output_type": "execute_result",
          "data": {
            "text/plain": [
              "torch.Size([400000, 100])"
            ]
          },
          "metadata": {
            "tags": []
          },
          "execution_count": 15
        }
      ]
    },
    {
      "cell_type": "markdown",
      "metadata": {
        "deletable": false,
        "editable": false,
        "nbgrader": {
          "checksum": "a45800d85ac4b4b0b28b7c5786e7f611",
          "grade": false,
          "grade_id": "cell-8b7f0ea5ae20558b",
          "locked": true,
          "schema_version": 1,
          "solution": false
        },
        "id": "s4JBpFJaChMz",
        "colab_type": "text"
      },
      "source": [
        "We can see what word is associated with each row by checking the `itos` (int to string) list. \n",
        "\n",
        "Below implies that row 0 is the vector associated with the word 'the', row 1 for ',' (comma), row 2 for '.' (period), etc."
      ]
    },
    {
      "cell_type": "code",
      "metadata": {
        "deletable": false,
        "editable": false,
        "nbgrader": {
          "checksum": "056f9034fdc1ea90e5eb7f2aec199e04",
          "grade": false,
          "grade_id": "cell-c729cc0c78c40e6c",
          "locked": true,
          "schema_version": 1,
          "solution": false
        },
        "id": "H4d3U6uwChMz",
        "colab_type": "code",
        "outputId": "ac24d7e0-9639-401f-f04a-85dec4941e78",
        "colab": {
          "base_uri": "https://localhost:8080/",
          "height": 35
        }
      },
      "source": [
        "glove.itos[:10]"
      ],
      "execution_count": 16,
      "outputs": [
        {
          "output_type": "execute_result",
          "data": {
            "text/plain": [
              "['the', ',', '.', 'of', 'to', 'and', 'in', 'a', '\"', \"'s\"]"
            ]
          },
          "metadata": {
            "tags": []
          },
          "execution_count": 16
        }
      ]
    },
    {
      "cell_type": "markdown",
      "metadata": {
        "deletable": false,
        "editable": false,
        "nbgrader": {
          "checksum": "d54851b373cca20e645497dfe6dfc8f0",
          "grade": false,
          "grade_id": "cell-f0e2bc91e46d85ab",
          "locked": true,
          "schema_version": 1,
          "solution": false
        },
        "id": "nHnujAGLChM1",
        "colab_type": "text"
      },
      "source": [
        "We can also use the `stoi` (string to int) dictionary, in which we input a word and receive the associated integer/index. If you try get the index of a word that is not in the vocabulary, you receive an error."
      ]
    },
    {
      "cell_type": "code",
      "metadata": {
        "deletable": false,
        "editable": false,
        "nbgrader": {
          "checksum": "4328787e224e941b4dcc53c2315626ee",
          "grade": false,
          "grade_id": "cell-a95267b694432ed1",
          "locked": true,
          "schema_version": 1,
          "solution": false
        },
        "id": "NllePMCSChM2",
        "colab_type": "code",
        "outputId": "276f05c1-a58f-44df-f4e5-73e12f0b1052",
        "colab": {
          "base_uri": "https://localhost:8080/",
          "height": 35
        }
      },
      "source": [
        "glove.stoi['the']"
      ],
      "execution_count": 17,
      "outputs": [
        {
          "output_type": "execute_result",
          "data": {
            "text/plain": [
              "0"
            ]
          },
          "metadata": {
            "tags": []
          },
          "execution_count": 17
        }
      ]
    },
    {
      "cell_type": "markdown",
      "metadata": {
        "deletable": false,
        "editable": false,
        "nbgrader": {
          "checksum": "b506644789934cd8b5a7afcc4e3ccc39",
          "grade": false,
          "grade_id": "cell-ba0310634f767896",
          "locked": true,
          "schema_version": 1,
          "solution": false
        },
        "id": "SG2Ek0E3ChM3",
        "colab_type": "text"
      },
      "source": [
        "We can get the vector of a word by first getting the integer associated with it and then indexing into the word embedding tensor with that index."
      ]
    },
    {
      "cell_type": "code",
      "metadata": {
        "deletable": false,
        "editable": false,
        "nbgrader": {
          "checksum": "bbc1b6a3ec1c87301f8b913034b5798c",
          "grade": false,
          "grade_id": "cell-ec58401ce38b8fe9",
          "locked": true,
          "schema_version": 1,
          "solution": false
        },
        "id": "FPql0vPdChM5",
        "colab_type": "code",
        "outputId": "3bcfbf4b-9e8e-426e-b9fe-60e2c539e57d",
        "colab": {
          "base_uri": "https://localhost:8080/",
          "height": 248
        }
      },
      "source": [
        "glove.vectors[glove.stoi['the']]"
      ],
      "execution_count": 18,
      "outputs": [
        {
          "output_type": "execute_result",
          "data": {
            "text/plain": [
              "tensor([-0.0382, -0.2449,  0.7281, -0.3996,  0.0832,  0.0440, -0.3914,  0.3344,\n",
              "        -0.5755,  0.0875,  0.2879, -0.0673,  0.3091, -0.2638, -0.1323, -0.2076,\n",
              "         0.3340, -0.3385, -0.3174, -0.4834,  0.1464, -0.3730,  0.3458,  0.0520,\n",
              "         0.4495, -0.4697,  0.0263, -0.5415, -0.1552, -0.1411, -0.0397,  0.2828,\n",
              "         0.1439,  0.2346, -0.3102,  0.0862,  0.2040,  0.5262,  0.1716, -0.0824,\n",
              "        -0.7179, -0.4153,  0.2033, -0.1276,  0.4137,  0.5519,  0.5791, -0.3348,\n",
              "        -0.3656, -0.5486, -0.0629,  0.2658,  0.3020,  0.9977, -0.8048, -3.0243,\n",
              "         0.0125, -0.3694,  2.2167,  0.7220, -0.2498,  0.9214,  0.0345,  0.4674,\n",
              "         1.1079, -0.1936, -0.0746,  0.2335, -0.0521, -0.2204,  0.0572, -0.1581,\n",
              "        -0.3080, -0.4162,  0.3797,  0.1501, -0.5321, -0.2055, -1.2526,  0.0716,\n",
              "         0.7056,  0.4974, -0.4206,  0.2615, -1.5380, -0.3022, -0.0734, -0.2831,\n",
              "         0.3710, -0.2522,  0.0162, -0.0171, -0.3898,  0.8742, -0.7257, -0.5106,\n",
              "        -0.5203, -0.1459,  0.8278,  0.2706])"
            ]
          },
          "metadata": {
            "tags": []
          },
          "execution_count": 18
        }
      ]
    },
    {
      "cell_type": "markdown",
      "metadata": {
        "deletable": false,
        "editable": false,
        "nbgrader": {
          "checksum": "d9591f8c7576a4211a24259d5a08f495",
          "grade": false,
          "grade_id": "cell-3f6513c100744743",
          "locked": true,
          "schema_version": 1,
          "solution": false
        },
        "id": "5XXuqkUpChM7",
        "colab_type": "text"
      },
      "source": [
        "We'll be doing this a lot. __Use the following block to create a function that takes in word embeddings and a word and returns the associated vector.__ You should throw an error if the word doesn't exist in the vocabulary:"
      ]
    },
    {
      "cell_type": "code",
      "metadata": {
        "deletable": false,
        "nbgrader": {
          "checksum": "cc248cb64c4760e65292e3e7a8c4b3cd",
          "grade": true,
          "grade_id": "cell-665d7b4d1dd8f339",
          "locked": false,
          "points": 4,
          "schema_version": 1,
          "solution": true
        },
        "id": "YYriI9mMChM7",
        "colab_type": "code",
        "colab": {}
      },
      "source": [
        "def get_vector(embeddings, word):\n",
        "    # YOUR CODE HERE\n",
        "    \n",
        "    #word_vector = embeddings.vectors[embeddings.stoi[word]]\n",
        "    \n",
        "    try:\n",
        "      word_vector = embeddings.vectors[embeddings.stoi[word]]\n",
        "    except:\n",
        "      raise RuntimeError('The word does not exist in the vocabulary:%s'%(word))\n",
        "    return word_vector\n",
        "    #raise NotImplementedError()"
      ],
      "execution_count": 0,
      "outputs": []
    },
    {
      "cell_type": "markdown",
      "metadata": {
        "deletable": false,
        "editable": false,
        "nbgrader": {
          "checksum": "ca9447056d8b427e99b7bd0372902d9c",
          "grade": false,
          "grade_id": "cell-9ff707bac4fd2556",
          "locked": true,
          "schema_version": 1,
          "solution": false
        },
        "id": "7sy6_BE-ChM9",
        "colab_type": "text"
      },
      "source": [
        "As before, we use a word to get the associated vector."
      ]
    },
    {
      "cell_type": "code",
      "metadata": {
        "deletable": false,
        "editable": false,
        "nbgrader": {
          "checksum": "fdf27ce0601aef03ff1efdd73bd779ca",
          "grade": false,
          "grade_id": "cell-6311b14c496949f5",
          "locked": true,
          "schema_version": 1,
          "solution": false
        },
        "id": "INZ3tJWCChM9",
        "colab_type": "code",
        "colab": {
          "base_uri": "https://localhost:8080/",
          "height": 248
        },
        "outputId": "1de6f3fd-5847-49fa-fb1f-1ad68875eee5"
      },
      "source": [
        "# asdfasb = get_vector(glove, 'the')\n",
        "# print(asdfasb)\n",
        "get_vector(glove, 'the')"
      ],
      "execution_count": 39,
      "outputs": [
        {
          "output_type": "execute_result",
          "data": {
            "text/plain": [
              "tensor([-0.0382, -0.2449,  0.7281, -0.3996,  0.0832,  0.0440, -0.3914,  0.3344,\n",
              "        -0.5755,  0.0875,  0.2879, -0.0673,  0.3091, -0.2638, -0.1323, -0.2076,\n",
              "         0.3340, -0.3385, -0.3174, -0.4834,  0.1464, -0.3730,  0.3458,  0.0520,\n",
              "         0.4495, -0.4697,  0.0263, -0.5415, -0.1552, -0.1411, -0.0397,  0.2828,\n",
              "         0.1439,  0.2346, -0.3102,  0.0862,  0.2040,  0.5262,  0.1716, -0.0824,\n",
              "        -0.7179, -0.4153,  0.2033, -0.1276,  0.4137,  0.5519,  0.5791, -0.3348,\n",
              "        -0.3656, -0.5486, -0.0629,  0.2658,  0.3020,  0.9977, -0.8048, -3.0243,\n",
              "         0.0125, -0.3694,  2.2167,  0.7220, -0.2498,  0.9214,  0.0345,  0.4674,\n",
              "         1.1079, -0.1936, -0.0746,  0.2335, -0.0521, -0.2204,  0.0572, -0.1581,\n",
              "        -0.3080, -0.4162,  0.3797,  0.1501, -0.5321, -0.2055, -1.2526,  0.0716,\n",
              "         0.7056,  0.4974, -0.4206,  0.2615, -1.5380, -0.3022, -0.0734, -0.2831,\n",
              "         0.3710, -0.2522,  0.0162, -0.0171, -0.3898,  0.8742, -0.7257, -0.5106,\n",
              "        -0.5203, -0.1459,  0.8278,  0.2706])"
            ]
          },
          "metadata": {
            "tags": []
          },
          "execution_count": 39
        }
      ]
    },
    {
      "cell_type": "markdown",
      "metadata": {
        "deletable": false,
        "editable": false,
        "nbgrader": {
          "checksum": "db7798ec9825a17c0ccede676217ccff",
          "grade": false,
          "grade_id": "cell-5ce5018fe3a64aa5",
          "locked": true,
          "schema_version": 1,
          "solution": false
        },
        "id": "HNvs7POsChNA",
        "colab_type": "text"
      },
      "source": [
        "## Similar Contexts\n",
        "\n",
        "Now to start looking at the context of different words. \n",
        "\n",
        "If we want to find the words similar to a certain input word, we first find the vector of this input word, then we scan through our vocabulary finding any vectors similar to this input word vector.\n",
        "\n",
        "The function below returns the closest 10 words to an input word vector:"
      ]
    },
    {
      "cell_type": "code",
      "metadata": {
        "deletable": false,
        "editable": false,
        "nbgrader": {
          "checksum": "e0c40de99156af4a0ccbfde1e6c8c73c",
          "grade": false,
          "grade_id": "cell-7caf2bf37d7f6acd",
          "locked": true,
          "schema_version": 1,
          "solution": false
        },
        "id": "anMNt2l7ChNB",
        "colab_type": "code",
        "colab": {}
      },
      "source": [
        "import torch\n",
        "\n",
        "def closest_words(embeddings, vector, n=10):\n",
        "    #print(vector)\n",
        "    #print( get_vector(embeddings, w))\n",
        "    distances = [(w, torch.dist(vector, get_vector(embeddings, w)).item()) for w in embeddings.itos]\n",
        "    return sorted(distances, key = lambda w: w[1])[:n]"
      ],
      "execution_count": 0,
      "outputs": []
    },
    {
      "cell_type": "markdown",
      "metadata": {
        "deletable": false,
        "editable": false,
        "nbgrader": {
          "checksum": "67ad88185491caa67edc4c043b2dfffa",
          "grade": false,
          "grade_id": "cell-37ae589db1788914",
          "locked": true,
          "schema_version": 1,
          "solution": false
        },
        "id": "oCCRjj4eChNC",
        "colab_type": "text"
      },
      "source": [
        "Let's try it out with 'korea'. The closest word is the word 'korea' itself (not very interesting), however all of the words are related in some way. Pyongyang is the capital of North Korea, DPRK is the official name of North Korea, etc.\n",
        "\n",
        "Interestingly, we also get 'Japan' and 'China',  implies that Korea, Japan and China are frequently talked about together in similar contexts. This makes sense as they are geographically situated near each other. "
      ]
    },
    {
      "cell_type": "code",
      "metadata": {
        "deletable": false,
        "editable": false,
        "nbgrader": {
          "checksum": "3c53201c7b9717f670c96e6db2ce1fc0",
          "grade": false,
          "grade_id": "cell-f0315fd8a79e03c2",
          "locked": true,
          "schema_version": 1,
          "solution": false
        },
        "id": "3s-bx-Z4ChND",
        "colab_type": "code",
        "outputId": "4e75b5d8-933b-4aa7-9cd4-d55cce64ee3f",
        "colab": {
          "base_uri": "https://localhost:8080/",
          "height": 195
        }
      },
      "source": [
        "closest_words(glove, get_vector(glove, 'korea'))"
      ],
      "execution_count": 44,
      "outputs": [
        {
          "output_type": "execute_result",
          "data": {
            "text/plain": [
              "[('korea', 0.0),\n",
              " ('pyongyang', 3.9039554595947266),\n",
              " ('korean', 4.068886756896973),\n",
              " ('dprk', 4.2631049156188965),\n",
              " ('seoul', 4.340494155883789),\n",
              " ('japan', 4.551243782043457),\n",
              " ('koreans', 4.615609169006348),\n",
              " ('south', 4.65822696685791),\n",
              " ('china', 4.839518070220947),\n",
              " ('north', 4.986356735229492)]"
            ]
          },
          "metadata": {
            "tags": []
          },
          "execution_count": 44
        }
      ]
    },
    {
      "cell_type": "markdown",
      "metadata": {
        "deletable": false,
        "editable": false,
        "nbgrader": {
          "checksum": "cc290c1df8992513c81e9f6ab7d30812",
          "grade": false,
          "grade_id": "cell-aa3ce8cccc903a24",
          "locked": true,
          "schema_version": 1,
          "solution": false
        },
        "id": "d06FTv7kChNF",
        "colab_type": "text"
      },
      "source": [
        "Looking at another country, India, we also get nearby countries: Thailand, Malaysia and Sri Lanka (as two separate words). Australia is relatively close to India (geographically), but Thailand and Malaysia are closer. So why is Australia closer to India in vector space? A plausible explaination is that India and Australia appear together in the context of [cricket](https://en.wikipedia.org/wiki/Cricket) matches."
      ]
    },
    {
      "cell_type": "code",
      "metadata": {
        "deletable": false,
        "editable": false,
        "nbgrader": {
          "checksum": "5b12751bffec3905109d45bdf5503e5f",
          "grade": false,
          "grade_id": "cell-e42121c7951db2d3",
          "locked": true,
          "schema_version": 1,
          "solution": false
        },
        "id": "X-tP548aChNG",
        "colab_type": "code",
        "colab": {
          "base_uri": "https://localhost:8080/",
          "height": 195
        },
        "outputId": "220febce-78a0-4248-c738-de8acd9ed7fd"
      },
      "source": [
        "closest_words(glove, get_vector(glove, 'india'))"
      ],
      "execution_count": 45,
      "outputs": [
        {
          "output_type": "execute_result",
          "data": {
            "text/plain": [
              "[('india', 0.0),\n",
              " ('pakistan', 3.6954822540283203),\n",
              " ('indian', 4.114313125610352),\n",
              " ('delhi', 4.155975818634033),\n",
              " ('bangladesh', 4.261017799377441),\n",
              " ('lanka', 4.435845851898193),\n",
              " ('sri', 4.515716552734375),\n",
              " ('australia', 4.806082725524902),\n",
              " ('thailand', 4.994781017303467),\n",
              " ('malaysia', 5.009334087371826)]"
            ]
          },
          "metadata": {
            "tags": []
          },
          "execution_count": 45
        }
      ]
    },
    {
      "cell_type": "markdown",
      "metadata": {
        "deletable": false,
        "editable": false,
        "nbgrader": {
          "checksum": "69ad20637fe1ba949c18119468a615e2",
          "grade": false,
          "grade_id": "cell-7aa75c705fe39e2b",
          "locked": true,
          "schema_version": 1,
          "solution": false
        },
        "id": "n0ERzj7aChNH",
        "colab_type": "text"
      },
      "source": [
        "We'll also create another function that will nicely print out the tuples returned by our closest_words function."
      ]
    },
    {
      "cell_type": "code",
      "metadata": {
        "deletable": false,
        "editable": false,
        "nbgrader": {
          "checksum": "d38ea85b7b473d4405eb968377727e9e",
          "grade": false,
          "grade_id": "cell-e0e61a784e7b5c03",
          "locked": true,
          "schema_version": 1,
          "solution": false
        },
        "id": "EWsPxmpWChNI",
        "colab_type": "code",
        "colab": {}
      },
      "source": [
        "def print_tuples(tuples):\n",
        "    for w, d in tuples:\n",
        "        print(f'({d:02.04f}) {w}') "
      ],
      "execution_count": 0,
      "outputs": []
    },
    {
      "cell_type": "markdown",
      "metadata": {
        "deletable": false,
        "editable": false,
        "nbgrader": {
          "checksum": "c314c093d0931d12e5e56b0473de07b4",
          "grade": false,
          "grade_id": "cell-158d48e3c33227e7",
          "locked": true,
          "schema_version": 1,
          "solution": false
        },
        "id": "JKlXLCAdChNL",
        "colab_type": "text"
      },
      "source": [
        "Using the `print_tuples` function use the code block below to print out the 10 neighbours of 'jaguar':"
      ]
    },
    {
      "cell_type": "code",
      "metadata": {
        "deletable": false,
        "nbgrader": {
          "checksum": "d396d6fedd051278308325893bff1a7c",
          "grade": true,
          "grade_id": "cell-c883f0e0c2c194b4",
          "locked": false,
          "points": 2,
          "schema_version": 1,
          "solution": true
        },
        "id": "RYeBDkutChNL",
        "colab_type": "code",
        "colab": {
          "base_uri": "https://localhost:8080/",
          "height": 195
        },
        "outputId": "222ae342-d047-4ef8-e155-82985a19897b"
      },
      "source": [
        "# YOUR CODE HERE\n",
        "\n",
        "word_tuples = closest_words(glove, get_vector(glove, 'jaguar'))\n",
        "print_tuples(word_tuples)\n",
        "#raise NotImplementedError()"
      ],
      "execution_count": 47,
      "outputs": [
        {
          "output_type": "stream",
          "text": [
            "(0.0000) jaguar\n",
            "(4.0384) rover\n",
            "(4.2649) mustang\n",
            "(4.3939) e-type\n",
            "(4.4494) xk8\n",
            "(4.4579) xjs\n",
            "(4.4906) xj6\n",
            "(4.5109) xkr\n",
            "(4.5336) sepecat\n",
            "(4.5409) xk120\n"
          ],
          "name": "stdout"
        }
      ]
    },
    {
      "cell_type": "markdown",
      "metadata": {
        "deletable": false,
        "editable": false,
        "nbgrader": {
          "checksum": "5efa0cdc77c06d8a495a6832ac7a2bd3",
          "grade": false,
          "grade_id": "cell-3964ab858fdb82d8",
          "locked": true,
          "schema_version": 1,
          "solution": false
        },
        "id": "q59x6ZPxChNN",
        "colab_type": "text"
      },
      "source": [
        "__Use the following block to explain the results.__ (hint: use Google if you don't know what any of the terms are!)"
      ]
    },
    {
      "cell_type": "markdown",
      "metadata": {
        "deletable": false,
        "nbgrader": {
          "checksum": "ece0ec94dff4b1e0bef5bacbec0db9f1",
          "grade": true,
          "grade_id": "cell-ebf08e96b0987860",
          "locked": false,
          "points": 5,
          "schema_version": 1,
          "solution": true
        },
        "id": "wOgaqi6_ChNN",
        "colab_type": "text"
      },
      "source": [
        "YOUR ANSWER HERE\n",
        "\n",
        "During the research, I find that Jaguar Land Rover is a British car manufacturer,  and Sepecat Jaguar is a fighter series. They have a certain relationship so may be usually talked together.\n",
        "\n",
        "Both Mustang and Jaguar are names for similar types of cars, which are related to each other. \n",
        "\n",
        "E-type, xk8, etc. are the models of Jaguar."
      ]
    },
    {
      "cell_type": "markdown",
      "metadata": {
        "deletable": false,
        "editable": false,
        "nbgrader": {
          "checksum": "37e34f44b1798d1f74fb49210ef1da43",
          "grade": false,
          "grade_id": "cell-9f417bc0fb8d5287",
          "locked": true,
          "schema_version": 1,
          "solution": false
        },
        "id": "SrqLT2IyChNP",
        "colab_type": "text"
      },
      "source": [
        "## Analogies\n",
        "\n",
        "Another property of word embeddings is that we can apply standard arithmetic operations. This can give interesting results.\n",
        "\n",
        "We'll show an example of this first, and then explain it:"
      ]
    },
    {
      "cell_type": "code",
      "metadata": {
        "deletable": false,
        "editable": false,
        "nbgrader": {
          "checksum": "895399907963f0f7a83448dec5165c5d",
          "grade": false,
          "grade_id": "cell-a0f613c8739e5a3c",
          "locked": true,
          "schema_version": 1,
          "solution": false
        },
        "id": "hSe-5OhOChNP",
        "colab_type": "code",
        "colab": {}
      },
      "source": [
        "def analogy(embeddings, word1, word2, word3, n=5):\n",
        "    \n",
        "    candidate_words = closest_words(embeddings, get_vector(embeddings, word2) - get_vector(embeddings, word1) + get_vector(embeddings, word3), n+3)\n",
        "    \n",
        "    candidate_words = [x for x in candidate_words if x[0] not in [word1, word2, word3]][:n]\n",
        "    \n",
        "    print(f'{word1} is to {word2} as {word3} is to...')\n",
        "    \n",
        "    return candidate_words"
      ],
      "execution_count": 0,
      "outputs": []
    },
    {
      "cell_type": "code",
      "metadata": {
        "deletable": false,
        "editable": false,
        "nbgrader": {
          "checksum": "9994548d295d48b18a1767ebb094a3e6",
          "grade": false,
          "grade_id": "cell-c197612b5ec94762",
          "locked": true,
          "schema_version": 1,
          "solution": false
        },
        "id": "gdBedaqDChNS",
        "colab_type": "code",
        "colab": {
          "base_uri": "https://localhost:8080/",
          "height": 124
        },
        "outputId": "777a0034-4c45-427c-8ccd-f286b5e61eb0"
      },
      "source": [
        "print_tuples(analogy(glove, 'man', 'king', 'woman'))"
      ],
      "execution_count": 49,
      "outputs": [
        {
          "output_type": "stream",
          "text": [
            "man is to king as woman is to...\n",
            "(4.0811) queen\n",
            "(4.6429) monarch\n",
            "(4.9055) throne\n",
            "(4.9216) elizabeth\n",
            "(4.9811) prince\n"
          ],
          "name": "stdout"
        }
      ]
    },
    {
      "cell_type": "markdown",
      "metadata": {
        "deletable": false,
        "editable": false,
        "nbgrader": {
          "checksum": "5596f944b3ea0977744e61ac0dc9691e",
          "grade": false,
          "grade_id": "cell-a388955bf35cd584",
          "locked": true,
          "schema_version": 1,
          "solution": false
        },
        "id": "21peel5_ChNW",
        "colab_type": "text"
      },
      "source": [
        "This is the canonical example which shows off this property of word embeddings. So why does it work? Why does the vector of 'woman' added to the vector of 'king' minus the vector of 'man' give us 'queen'?\n",
        "\n",
        "If we think about it, the vector calculated from 'king' minus 'man' gives us a \"royalty vector\". This is the vector associated with traveling from a man to his royal counterpart, a king. If we add this \"royality vector\" to 'woman', this should travel to her royal equivalent, which is a queen!\n",
        "\n",
        "We can do this with other analogies too. For example, this gets an \"acting career vector\":"
      ]
    },
    {
      "cell_type": "code",
      "metadata": {
        "deletable": false,
        "editable": false,
        "nbgrader": {
          "checksum": "e3ba3a850f1feed61e5f60a7f998ddd3",
          "grade": false,
          "grade_id": "cell-733267c1033df3c0",
          "locked": true,
          "schema_version": 1,
          "solution": false
        },
        "id": "nthZKEaaChNX",
        "colab_type": "code",
        "colab": {
          "base_uri": "https://localhost:8080/",
          "height": 124
        },
        "outputId": "0382342e-bbd8-4a17-8093-20beae3fd1f9"
      },
      "source": [
        "print_tuples(analogy(glove, 'man', 'actor', 'woman'))"
      ],
      "execution_count": 50,
      "outputs": [
        {
          "output_type": "stream",
          "text": [
            "man is to actor as woman is to...\n",
            "(2.8133) actress\n",
            "(5.0039) comedian\n",
            "(5.1399) actresses\n",
            "(5.2773) starred\n",
            "(5.3085) screenwriter\n"
          ],
          "name": "stdout"
        }
      ]
    },
    {
      "cell_type": "markdown",
      "metadata": {
        "deletable": false,
        "editable": false,
        "nbgrader": {
          "checksum": "a865a1470a970a0636a4d3fae76cab84",
          "grade": false,
          "grade_id": "cell-3a873ba9cf3355e4",
          "locked": true,
          "schema_version": 1,
          "solution": false
        },
        "id": "4ZfvyjhJChNb",
        "colab_type": "text"
      },
      "source": [
        "__Use the following block to compute a 'capital city vector' that predicts the capital of England based on the capital and name of another country__:"
      ]
    },
    {
      "cell_type": "code",
      "metadata": {
        "deletable": false,
        "nbgrader": {
          "checksum": "328c71eb5601837b5202b85934e9bb1c",
          "grade": true,
          "grade_id": "cell-9f399ee568e4ae5b",
          "locked": false,
          "points": 2,
          "schema_version": 1,
          "solution": true
        },
        "id": "H5bA3YV0ChNd",
        "colab_type": "code",
        "colab": {
          "base_uri": "https://localhost:8080/",
          "height": 124
        },
        "outputId": "32e92117-c91f-4aeb-96b2-7ab2b7550bd0"
      },
      "source": [
        "# YOUR CODE HERE\n",
        "print_tuples(analogy(glove, 'france', 'paris', 'england'))\n",
        "#raise NotImplementedError()"
      ],
      "execution_count": 51,
      "outputs": [
        {
          "output_type": "stream",
          "text": [
            "france is to paris as england is to...\n",
            "(4.1426) london\n",
            "(4.4938) melbourne\n",
            "(4.7087) sydney\n",
            "(4.7630) perth\n",
            "(4.7952) birmingham\n"
          ],
          "name": "stdout"
        }
      ]
    },
    {
      "cell_type": "markdown",
      "metadata": {
        "deletable": false,
        "editable": false,
        "nbgrader": {
          "checksum": "33e404a915d22e882399fb954ab2ebef",
          "grade": false,
          "grade_id": "cell-3dbff5286a5d4d7e",
          "locked": true,
          "schema_version": 1,
          "solution": false
        },
        "id": "wKP0JXssChNf",
        "colab_type": "text"
      },
      "source": [
        "__Use the following block to compute an 'musical genre vector' that predicts the genre of music played by Eminem based on another musician/band and their genre__:"
      ]
    },
    {
      "cell_type": "code",
      "metadata": {
        "deletable": false,
        "nbgrader": {
          "checksum": "5f8f424d440dd6dcd184b16b8c8be299",
          "grade": true,
          "grade_id": "cell-d04e647ab1bc99c8",
          "locked": false,
          "points": 2,
          "schema_version": 1,
          "solution": true
        },
        "id": "povsjQBvChNg",
        "colab_type": "code",
        "colab": {
          "base_uri": "https://localhost:8080/",
          "height": 124
        },
        "outputId": "629f320c-9480-4426-e7b3-4768aa2554ad"
      },
      "source": [
        "# YOUR CODE HERE\n",
        "\n",
        "print_tuples(analogy(glove, 'jackson', 'rock', 'eminem'))\n",
        "#raise NotImplementedError()"
      ],
      "execution_count": 52,
      "outputs": [
        {
          "output_type": "stream",
          "text": [
            "jackson is to rock as eminem is to...\n",
            "(5.7585) punk\n",
            "(5.8350) hop\n",
            "(5.8717) rap\n",
            "(5.9640) hip-hop\n",
            "(6.0025) indie\n"
          ],
          "name": "stdout"
        }
      ]
    }
  ]
}