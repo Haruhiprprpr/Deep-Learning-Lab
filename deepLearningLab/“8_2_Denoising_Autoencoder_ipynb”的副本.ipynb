{
  "nbformat": 4,
  "nbformat_minor": 0,
  "metadata": {
    "colab": {
      "name": "“8_2_Denoising_Autoencoder.ipynb”的副本",
      "version": "0.3.2",
      "provenance": [],
      "collapsed_sections": []
    },
    "language_info": {
      "codemirror_mode": {
        "name": "ipython",
        "version": 3
      },
      "file_extension": ".py",
      "mimetype": "text/x-python",
      "name": "python",
      "nbconvert_exporter": "python",
      "pygments_lexer": "ipython3",
      "version": "3.6.7"
    },
    "kernelspec": {
      "name": "python3",
      "display_name": "Python 3"
    },
    "accelerator": "GPU"
  },
  "cells": [
    {
      "cell_type": "markdown",
      "metadata": {
        "deletable": false,
        "editable": false,
        "nbgrader": {
          "checksum": "f2b4f7deb5cbe6a88fca4d3616c19c96",
          "grade": false,
          "grade_id": "cell-ff3f3e0205bff3e4",
          "locked": true,
          "schema_version": 1,
          "solution": false
        },
        "id": "qUqJW0tN8clP",
        "colab_type": "text"
      },
      "source": [
        "# Part 2: Denoising Autoencoder"
      ]
    },
    {
      "cell_type": "code",
      "metadata": {
        "deletable": false,
        "editable": false,
        "nbgrader": {
          "checksum": "512b9d458893e474da69aa7e23a01e24",
          "grade": false,
          "grade_id": "cell-9e42398fb4955fba",
          "locked": true,
          "schema_version": 1,
          "solution": false
        },
        "id": "vxyN808v8clQ",
        "colab_type": "code",
        "colab": {}
      },
      "source": [
        "# Execute this code block to install dependencies when running on colab\n",
        "try:\n",
        "    import torch\n",
        "except:\n",
        "    from os.path import exists\n",
        "    from wheel.pep425tags import get_abbr_impl, get_impl_ver, get_abi_tag\n",
        "    platform = '{}{}-{}'.format(get_abbr_impl(), get_impl_ver(), get_abi_tag())\n",
        "    cuda_output = !ldconfig -p|grep cudart.so|sed -e 's/.*\\.\\([0-9]*\\)\\.\\([0-9]*\\)$/cu\\1\\2/'\n",
        "    accelerator = cuda_output[0] if exists('/dev/nvidia0') else 'cpu'\n",
        "\n",
        "    !pip install -q http://download.pytorch.org/whl/{accelerator}/torch-1.0.0-{platform}-linux_x86_64.whl torchvision"
      ],
      "execution_count": 0,
      "outputs": []
    },
    {
      "cell_type": "markdown",
      "metadata": {
        "deletable": false,
        "editable": false,
        "nbgrader": {
          "checksum": "f18d024a6245ca61bd7d423b6ead9ecc",
          "grade": false,
          "grade_id": "cell-2122f281579eb211",
          "locked": true,
          "schema_version": 1,
          "solution": false
        },
        "id": "xN1t8C4Z8clT",
        "colab_type": "text"
      },
      "source": [
        "### Extend the Autoencoder you implemented in Part 1 to a Denoising Autoencoder\n",
        "\n",
        "Recall from the lecture, a denoising autoencoder's architecture is very similar to a standard autoencoder. The difference is the input to the autoencoder has noise added to it. However, when computing the loss function, make sure the original (non-noisy) version is used for backpropagation.\n",
        "\n",
        "Again, let's start by loading the Fashion-MNIST dataset and transforming it to a flattened tensor."
      ]
    },
    {
      "cell_type": "code",
      "metadata": {
        "deletable": false,
        "editable": false,
        "nbgrader": {
          "checksum": "2a5ae3ba06d7ee0f67407e62f07576a0",
          "grade": false,
          "grade_id": "cell-93479840905ca9f8",
          "locked": true,
          "schema_version": 1,
          "solution": false
        },
        "id": "aR-j2MUP8clU",
        "colab_type": "code",
        "colab": {
          "base_uri": "https://localhost:8080/",
          "height": 286
        },
        "outputId": "5f83be78-1410-4c3e-a4da-7e3bfb3ec1c5"
      },
      "source": [
        "%matplotlib inline\n",
        "\n",
        "import torchvision\n",
        "import torchvision.transforms as transforms\n",
        "\n",
        "import numpy as np\n",
        "\n",
        "batch_size = 256\n",
        "image_dim = 784  # [flattened]\n",
        "\n",
        "# dataset construction\n",
        "transform = transforms.Compose([\n",
        "    transforms.ToTensor(), # convert to tensor\n",
        "    transforms.Lambda(lambda x: x.view(image_dim)) # flatten into vector\n",
        "    ])\n",
        "\n",
        "train_set = torchvision.datasets.FashionMNIST(\n",
        "    root='./data/FashionMNIST'\n",
        "    ,train=True\n",
        "    ,download=True\n",
        "    ,transform=transform\n",
        ")\n",
        "\n",
        "train_loader = torch.utils.data.DataLoader(\n",
        "    train_set, batch_size=batch_size\n",
        ")"
      ],
      "execution_count": 2,
      "outputs": [
        {
          "output_type": "stream",
          "text": [
            "  0%|          | 49152/26421880 [00:00<00:59, 441960.95it/s]"
          ],
          "name": "stderr"
        },
        {
          "output_type": "stream",
          "text": [
            "Downloading http://fashion-mnist.s3-website.eu-central-1.amazonaws.com/train-images-idx3-ubyte.gz to ./data/FashionMNIST/FashionMNIST/raw/train-images-idx3-ubyte.gz\n"
          ],
          "name": "stdout"
        },
        {
          "output_type": "stream",
          "text": [
            "26427392it [00:00, 64140007.45it/s]                            \n"
          ],
          "name": "stderr"
        },
        {
          "output_type": "stream",
          "text": [
            "Extracting ./data/FashionMNIST/FashionMNIST/raw/train-images-idx3-ubyte.gz\n"
          ],
          "name": "stdout"
        },
        {
          "output_type": "stream",
          "text": [
            "32768it [00:00, 435666.86it/s]\n",
            "  5%|▍         | 212992/4422102 [00:00<00:02, 1935772.49it/s]"
          ],
          "name": "stderr"
        },
        {
          "output_type": "stream",
          "text": [
            "Downloading http://fashion-mnist.s3-website.eu-central-1.amazonaws.com/train-labels-idx1-ubyte.gz to ./data/FashionMNIST/FashionMNIST/raw/train-labels-idx1-ubyte.gz\n",
            "Extracting ./data/FashionMNIST/FashionMNIST/raw/train-labels-idx1-ubyte.gz\n",
            "Downloading http://fashion-mnist.s3-website.eu-central-1.amazonaws.com/t10k-images-idx3-ubyte.gz to ./data/FashionMNIST/FashionMNIST/raw/t10k-images-idx3-ubyte.gz\n"
          ],
          "name": "stdout"
        },
        {
          "output_type": "stream",
          "text": [
            "4423680it [00:00, 25204659.30it/s]                           \n",
            "8192it [00:00, 149090.04it/s]\n"
          ],
          "name": "stderr"
        },
        {
          "output_type": "stream",
          "text": [
            "Extracting ./data/FashionMNIST/FashionMNIST/raw/t10k-images-idx3-ubyte.gz\n",
            "Downloading http://fashion-mnist.s3-website.eu-central-1.amazonaws.com/t10k-labels-idx1-ubyte.gz to ./data/FashionMNIST/FashionMNIST/raw/t10k-labels-idx1-ubyte.gz\n",
            "Extracting ./data/FashionMNIST/FashionMNIST/raw/t10k-labels-idx1-ubyte.gz\n",
            "Processing...\n",
            "Done!\n"
          ],
          "name": "stdout"
        }
      ]
    },
    {
      "cell_type": "markdown",
      "metadata": {
        "deletable": false,
        "editable": false,
        "nbgrader": {
          "checksum": "c6c6c49a7df533da3fb6d0ba9a32e73f",
          "grade": false,
          "grade_id": "cell-c4a66cd9fec76585",
          "locked": true,
          "schema_version": 1,
          "solution": false
        },
        "id": "DGXbvQQy8clX",
        "colab_type": "text"
      },
      "source": [
        "## Build a Denoising Autoencoder"
      ]
    },
    {
      "cell_type": "markdown",
      "metadata": {
        "deletable": false,
        "editable": false,
        "nbgrader": {
          "checksum": "895626fdc719173fe5603de420affa8e",
          "grade": false,
          "grade_id": "cell-5c3c6923a69817e7",
          "locked": true,
          "schema_version": 1,
          "solution": false
        },
        "id": "ICvxUQnr8clY",
        "colab_type": "text"
      },
      "source": [
        "Now, define the Encoder and Decoder classes for your denoising autoencoder, called DN_Encoder, DN_Decoder, respectively. You can define these architectures how you like; some suggested architectures are given as comments in the classes below."
      ]
    },
    {
      "cell_type": "code",
      "metadata": {
        "deletable": false,
        "nbgrader": {
          "checksum": "53b00202e7794014773cd92c6e1e0f1e",
          "grade": true,
          "grade_id": "cell-cd2ff87b0e33565c",
          "locked": false,
          "points": 3,
          "schema_version": 1,
          "solution": true
        },
        "id": "4lI8IDZC8clZ",
        "colab_type": "code",
        "colab": {}
      },
      "source": [
        "import torch\n",
        "import torch.nn as nn\n",
        "import torch.nn.functional as F\n",
        "import torch.optim as optim\n",
        "\n",
        "from tqdm import tqdm\n",
        "from itertools import chain\n",
        "\n",
        "\n",
        "class DN_Encoder(nn.Module):\n",
        "    '''\n",
        "    Denoising encoder with a single input, hidden and output layer\n",
        "    '''\n",
        "    def __init__(self, input_dim, hidden_dim, output_dim):\n",
        "        super(DN_Encoder, self).__init__()\n",
        "        # YOUR CODE HERE\n",
        "        self.encoder = nn.Sequential(\n",
        "            nn.Linear(input_dim, hidden_dim),\n",
        "            nn.ReLU(True),\n",
        "            nn.Linear(hidden_dim, output_dim),\n",
        "            nn.ReLU(True))\n",
        "        #raise NotImplementedError()\n",
        "    \n",
        "    def forward(self, x):\n",
        "        # YOUR CODE HERE\n",
        "        x = self.encoder(x)\n",
        "        return x\n",
        "        #raise NotImplementedError()\n",
        "\n",
        "        \n",
        "class DN_Decoder(nn.Module):\n",
        "    '''\n",
        "    Denoising decoder: single dense hidden layer followed by \n",
        "    output layer with a sigmoid to squish values\n",
        "    '''\n",
        "    def __init__(self, input_dim, hidden_dim, output_dim):\n",
        "        super(DN_Decoder, self).__init__()\n",
        "        # YOUR CODE HERE\n",
        "        self.decoder = nn.Sequential(\n",
        "            nn.Linear(input_dim, hidden_dim),\n",
        "            nn.ReLU(True),\n",
        "            nn.Linear(hidden_dim, output_dim),\n",
        "            nn.Sigmoid())\n",
        "        #raise NotImplementedError()\n",
        "\n",
        "    def forward(self, x):\n",
        "        # YOUR CODE HERE\n",
        "        x = self.decoder(x)\n",
        "        return x\n",
        "        #raise NotImplementedError()"
      ],
      "execution_count": 0,
      "outputs": []
    },
    {
      "cell_type": "markdown",
      "metadata": {
        "deletable": false,
        "editable": false,
        "nbgrader": {
          "checksum": "7b37e6a8a4c85000c31c7006fb152759",
          "grade": false,
          "grade_id": "cell-de510173c317d06d",
          "locked": true,
          "schema_version": 1,
          "solution": false
        },
        "id": "yWPsmr5p8clb",
        "colab_type": "text"
      },
      "source": [
        "## Learning your Denoising Autoencoder \n",
        "\n",
        "Start from the training procedure used in Part 1 for the autoencoder and extend this to get your denoising autoencoder working. Again, include images of both the data with added noise as well as the reconstructed images in the submitted notebook. Regarding the noise to add to your images, add Gaussian noise with a mean of 0 and a standard deviation of 1."
      ]
    },
    {
      "cell_type": "code",
      "metadata": {
        "deletable": false,
        "nbgrader": {
          "checksum": "507c78c8590b753846a0bb5bf41ebb32",
          "grade": true,
          "grade_id": "cell-1083635b21dee1c5",
          "locked": false,
          "points": 7,
          "schema_version": 1,
          "solution": true
        },
        "id": "8Xq9GThA8clc",
        "colab_type": "code",
        "colab": {
          "base_uri": "https://localhost:8080/",
          "height": 476
        },
        "outputId": "f6cbc7c6-63af-44f5-bd11-11549c80f981"
      },
      "source": [
        "# YOUR CODE HERE\n",
        "#raise NotImplementedError()\n",
        "\n",
        "import matplotlib.gridspec as gridspec    \n",
        "import os\n",
        "import torch.optim as optim\n",
        "import numpy as np\n",
        "%matplotlib inline\n",
        "\n",
        "import matplotlib.pyplot as plt\n",
        "\n",
        "from tqdm import tqdm\n",
        "from itertools import chain\n",
        "\n",
        "enc_dim = 64\n",
        "hid_dim = 256\n",
        "image_dim = 784  # [flattened]\n",
        "nEpoch = 10\n",
        "\n",
        "#add Gaussian noise with mean = 0 and standard deciation = 1\n",
        "def add_noise(img):\n",
        "    noise = torch.randn(img.size())\n",
        "    noisy_img = img + noise\n",
        "    return noisy_img\n",
        "  \n",
        "# construct the encoder, decoder and optimiser\n",
        "enc = DN_Encoder(image_dim,hid_dim, enc_dim)\n",
        "dec = DN_Decoder(enc_dim,hid_dim, image_dim)\n",
        "optimizer = optim.Adam(chain(enc.parameters(), dec.parameters()), lr=1e-3)\n",
        "\n",
        "# training loop\n",
        "for epoch in range(nEpoch):\n",
        "    losses = []\n",
        "    trainloader = tqdm(train_loader)\n",
        "\n",
        "    for i, data in enumerate(trainloader, 0):\n",
        "        inputs, _ = data\n",
        "        optimizer.zero_grad()\n",
        "\n",
        "        inputs = inputs.view(inputs.size(0), -1)\n",
        "        noisy_inputs = add_noise(inputs)\n",
        "\n",
        "        z = enc(noisy_inputs)\n",
        "        outputs = dec(z)\n",
        "\n",
        "        loss = F.binary_cross_entropy(outputs, inputs, size_average=False) / inputs.shape[0]\n",
        "        loss.backward()\n",
        "        optimizer.step()\n",
        "\n",
        "        # keep track of the loss and update the stats\n",
        "        losses.append(loss.item())\n",
        "        trainloader.set_postfix(loss=np.mean(losses), epoch=epoch)\n",
        "    \n",
        "    \n",
        "    # Display some of the reconstructed images\n",
        "    # YOUR CODE HERE\n",
        "\n",
        "result = outputs.detach()\n",
        "noise = noisy_inputs.detach()\n",
        "\n",
        "for i in range(8):\n",
        "  plt.subplot(int(str(24)+str(i+1)))\n",
        "  plt.imshow(noise[i].view(28,28), cmap=plt.get_cmap('gray'))\n",
        "  \n",
        "# show the plot with noise\n",
        "plt.show()\n"
      ],
      "execution_count": 5,
      "outputs": [
        {
          "output_type": "stream",
          "text": [
            "\r  0%|          | 0/235 [00:00<?, ?it/s]/usr/local/lib/python3.6/dist-packages/torch/nn/_reduction.py:46: UserWarning: size_average and reduce args will be deprecated, please use reduction='sum' instead.\n",
            "  warnings.warn(warning.format(ret))\n",
            "100%|██████████| 235/235 [00:12<00:00, 18.86it/s, epoch=0, loss=296]\n",
            "100%|██████████| 235/235 [00:12<00:00, 19.11it/s, epoch=1, loss=257]\n",
            "100%|██████████| 235/235 [00:12<00:00, 18.85it/s, epoch=2, loss=252]\n",
            "100%|██████████| 235/235 [00:12<00:00, 18.36it/s, epoch=3, loss=250]\n",
            "100%|██████████| 235/235 [00:12<00:00, 18.28it/s, epoch=4, loss=248]\n",
            "100%|██████████| 235/235 [00:14<00:00, 16.67it/s, epoch=5, loss=247]\n",
            "100%|██████████| 235/235 [00:12<00:00, 18.52it/s, epoch=6, loss=246]\n",
            "100%|██████████| 235/235 [00:12<00:00, 18.46it/s, epoch=7, loss=245]\n",
            "100%|██████████| 235/235 [00:12<00:00, 18.52it/s, epoch=8, loss=244]\n",
            "100%|██████████| 235/235 [00:12<00:00, 18.30it/s, epoch=9, loss=244]\n"
          ],
          "name": "stderr"
        },
        {
          "output_type": "display_data",
          "data": {
            "image/png": "[encoded data removed]",
            "text/plain": [
              "<Figure size 432x288 with 8 Axes>"
            ]
          },
          "metadata": {
            "tags": []
          }
        }
      ]
    },
    {
      "cell_type": "code",
      "metadata": {
        "id": "HdzagGhIjU3B",
        "colab_type": "code",
        "colab": {
          "base_uri": "https://localhost:8080/",
          "height": 243
        },
        "outputId": "d0470875-116a-490b-9ebd-99b23d9c71c5"
      },
      "source": [
        " for i in range(8):\n",
        "  plt.subplot(int(str(24)+str(i+1)))\n",
        "  plt.imshow(result[i].view(28,28), cmap=plt.get_cmap('gray'))\n",
        "  \n",
        "# show the plot of original result\n",
        "plt.show()"
      ],
      "execution_count": 6,
      "outputs": [
        {
          "output_type": "display_data",
          "data": {
            "image/png": "[encoded data removed]",
            "text/plain": [
              "<Figure size 432x288 with 8 Axes>"
            ]
          },
          "metadata": {
            "tags": []
          }
        }
      ]
    }
  ]
}